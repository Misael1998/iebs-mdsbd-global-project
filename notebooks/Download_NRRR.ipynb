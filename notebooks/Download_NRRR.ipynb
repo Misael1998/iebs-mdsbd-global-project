{
 "cells": [
  {
   "cell_type": "code",
   "execution_count": 1,
   "id": "3f0ef745-acdd-4ca1-8b12-f0d05038c845",
   "metadata": {},
   "outputs": [],
   "source": [
    "import io\n",
    "import os\n",
    "from datetime import datetime, timedelta\n",
    "\n",
    "import xarray as xr\n",
    "import requests\n",
    "import cartopy.crs as ccrs\n",
    "import cartopy.feature as cfeature\n",
    "import matplotlib.pyplot as plt\n",
    "import cmocean\n",
    "\n",
    "import pandas as pd\n",
    "import numpy as np\n",
    "\n",
    "import tempfile\n",
    "import wget\n",
    "\n",
    "# Not used directly, but used via xarray\n",
    "import cfgrib"
   ]
  },
  {
   "cell_type": "code",
   "execution_count": 2,
   "id": "192d5d42-0d1b-451c-9743-c550666b6871",
   "metadata": {},
   "outputs": [],
   "source": [
    "def get_row(df, uid):\n",
    "    try:\n",
    "        return df[df.uid == uid].iloc[0]\n",
    "    except:\n",
    "        return None"
   ]
  },
  {
   "cell_type": "code",
   "execution_count": 3,
   "id": "40d3f384-abc2-4a94-9ddb-6f17e9b0e2a5",
   "metadata": {},
   "outputs": [],
   "source": [
    "metadata = pd.read_csv('../data/metadata.csv')"
   ]
  },
  {
   "cell_type": "code",
   "execution_count": 4,
   "id": "bd11e6d7-f7b6-4b14-9b9e-96ae26b80518",
   "metadata": {},
   "outputs": [],
   "source": [
    "failed_points = pd.read_csv('../data/downloaded/failed/sentinel.csv')"
   ]
  },
  {
   "cell_type": "code",
   "execution_count": 5,
   "id": "a4b55f02-8da3-42d9-a32c-83ac9935e2c1",
   "metadata": {},
   "outputs": [
    {
     "data": {
      "text/html": [
       "<div>\n",
       "<style scoped>\n",
       "    .dataframe tbody tr th:only-of-type {\n",
       "        vertical-align: middle;\n",
       "    }\n",
       "\n",
       "    .dataframe tbody tr th {\n",
       "        vertical-align: top;\n",
       "    }\n",
       "\n",
       "    .dataframe thead th {\n",
       "        text-align: right;\n",
       "    }\n",
       "</style>\n",
       "<table border=\"1\" class=\"dataframe\">\n",
       "  <thead>\n",
       "    <tr style=\"text-align: right;\">\n",
       "      <th></th>\n",
       "      <th>uid</th>\n",
       "      <th>latitude</th>\n",
       "      <th>longitude</th>\n",
       "      <th>date</th>\n",
       "      <th>split</th>\n",
       "    </tr>\n",
       "  </thead>\n",
       "  <tbody>\n",
       "    <tr>\n",
       "      <th>0</th>\n",
       "      <td>aabm</td>\n",
       "      <td>39.080319</td>\n",
       "      <td>-86.430867</td>\n",
       "      <td>2018-05-14</td>\n",
       "      <td>train</td>\n",
       "    </tr>\n",
       "    <tr>\n",
       "      <th>1</th>\n",
       "      <td>aabn</td>\n",
       "      <td>36.559700</td>\n",
       "      <td>-121.510000</td>\n",
       "      <td>2016-08-31</td>\n",
       "      <td>test</td>\n",
       "    </tr>\n",
       "    <tr>\n",
       "      <th>2</th>\n",
       "      <td>aacd</td>\n",
       "      <td>35.875083</td>\n",
       "      <td>-78.878434</td>\n",
       "      <td>2020-11-19</td>\n",
       "      <td>train</td>\n",
       "    </tr>\n",
       "    <tr>\n",
       "      <th>3</th>\n",
       "      <td>aaee</td>\n",
       "      <td>35.487000</td>\n",
       "      <td>-79.062133</td>\n",
       "      <td>2016-08-24</td>\n",
       "      <td>train</td>\n",
       "    </tr>\n",
       "    <tr>\n",
       "      <th>4</th>\n",
       "      <td>aaff</td>\n",
       "      <td>38.049471</td>\n",
       "      <td>-99.827001</td>\n",
       "      <td>2019-07-23</td>\n",
       "      <td>train</td>\n",
       "    </tr>\n",
       "  </tbody>\n",
       "</table>\n",
       "</div>"
      ],
      "text/plain": [
       "    uid   latitude   longitude        date  split\n",
       "0  aabm  39.080319  -86.430867  2018-05-14  train\n",
       "1  aabn  36.559700 -121.510000  2016-08-31   test\n",
       "2  aacd  35.875083  -78.878434  2020-11-19  train\n",
       "3  aaee  35.487000  -79.062133  2016-08-24  train\n",
       "4  aaff  38.049471  -99.827001  2019-07-23  train"
      ]
     },
     "execution_count": 5,
     "metadata": {},
     "output_type": "execute_result"
    }
   ],
   "source": [
    "metadata.head()"
   ]
  },
  {
   "cell_type": "code",
   "execution_count": 6,
   "id": "76d2cc2f-f9b6-4d4e-95bd-afec66944137",
   "metadata": {},
   "outputs": [
    {
     "data": {
      "text/html": [
       "<div>\n",
       "<style scoped>\n",
       "    .dataframe tbody tr th:only-of-type {\n",
       "        vertical-align: middle;\n",
       "    }\n",
       "\n",
       "    .dataframe tbody tr th {\n",
       "        vertical-align: top;\n",
       "    }\n",
       "\n",
       "    .dataframe thead th {\n",
       "        text-align: right;\n",
       "    }\n",
       "</style>\n",
       "<table border=\"1\" class=\"dataframe\">\n",
       "  <thead>\n",
       "    <tr style=\"text-align: right;\">\n",
       "      <th></th>\n",
       "      <th>Unnamed: 0</th>\n",
       "      <th>uid</th>\n",
       "    </tr>\n",
       "  </thead>\n",
       "  <tbody>\n",
       "    <tr>\n",
       "      <th>0</th>\n",
       "      <td>0</td>\n",
       "      <td>aaig</td>\n",
       "    </tr>\n",
       "    <tr>\n",
       "      <th>1</th>\n",
       "      <td>1</td>\n",
       "      <td>aapj</td>\n",
       "    </tr>\n",
       "    <tr>\n",
       "      <th>2</th>\n",
       "      <td>2</td>\n",
       "      <td>aaqf</td>\n",
       "    </tr>\n",
       "    <tr>\n",
       "      <th>3</th>\n",
       "      <td>3</td>\n",
       "      <td>aaia</td>\n",
       "    </tr>\n",
       "    <tr>\n",
       "      <th>4</th>\n",
       "      <td>4</td>\n",
       "      <td>aaoj</td>\n",
       "    </tr>\n",
       "  </tbody>\n",
       "</table>\n",
       "</div>"
      ],
      "text/plain": [
       "   Unnamed: 0   uid\n",
       "0           0  aaig\n",
       "1           1  aapj\n",
       "2           2  aaqf\n",
       "3           3  aaia\n",
       "4           4  aaoj"
      ]
     },
     "execution_count": 6,
     "metadata": {},
     "output_type": "execute_result"
    }
   ],
   "source": [
    "failed_points.head()"
   ]
  },
  {
   "cell_type": "code",
   "execution_count": 7,
   "id": "f3f96090-e9b5-4385-92ed-a38c82d47994",
   "metadata": {},
   "outputs": [
    {
     "data": {
      "text/html": [
       "<div>\n",
       "<style scoped>\n",
       "    .dataframe tbody tr th:only-of-type {\n",
       "        vertical-align: middle;\n",
       "    }\n",
       "\n",
       "    .dataframe tbody tr th {\n",
       "        vertical-align: top;\n",
       "    }\n",
       "\n",
       "    .dataframe thead th {\n",
       "        text-align: right;\n",
       "    }\n",
       "</style>\n",
       "<table border=\"1\" class=\"dataframe\">\n",
       "  <thead>\n",
       "    <tr style=\"text-align: right;\">\n",
       "      <th></th>\n",
       "      <th>uid</th>\n",
       "      <th>latitude</th>\n",
       "      <th>longitude</th>\n",
       "      <th>date</th>\n",
       "      <th>split</th>\n",
       "    </tr>\n",
       "  </thead>\n",
       "  <tbody>\n",
       "    <tr>\n",
       "      <th>0</th>\n",
       "      <td>aabm</td>\n",
       "      <td>39.080319</td>\n",
       "      <td>-86.430867</td>\n",
       "      <td>2018-05-14</td>\n",
       "      <td>train</td>\n",
       "    </tr>\n",
       "    <tr>\n",
       "      <th>1</th>\n",
       "      <td>aabn</td>\n",
       "      <td>36.559700</td>\n",
       "      <td>-121.510000</td>\n",
       "      <td>2016-08-31</td>\n",
       "      <td>test</td>\n",
       "    </tr>\n",
       "    <tr>\n",
       "      <th>2</th>\n",
       "      <td>aacd</td>\n",
       "      <td>35.875083</td>\n",
       "      <td>-78.878434</td>\n",
       "      <td>2020-11-19</td>\n",
       "      <td>train</td>\n",
       "    </tr>\n",
       "    <tr>\n",
       "      <th>3</th>\n",
       "      <td>aaee</td>\n",
       "      <td>35.487000</td>\n",
       "      <td>-79.062133</td>\n",
       "      <td>2016-08-24</td>\n",
       "      <td>train</td>\n",
       "    </tr>\n",
       "    <tr>\n",
       "      <th>4</th>\n",
       "      <td>aaff</td>\n",
       "      <td>38.049471</td>\n",
       "      <td>-99.827001</td>\n",
       "      <td>2019-07-23</td>\n",
       "      <td>train</td>\n",
       "    </tr>\n",
       "  </tbody>\n",
       "</table>\n",
       "</div>"
      ],
      "text/plain": [
       "    uid   latitude   longitude        date  split\n",
       "0  aabm  39.080319  -86.430867  2018-05-14  train\n",
       "1  aabn  36.559700 -121.510000  2016-08-31   test\n",
       "2  aacd  35.875083  -78.878434  2020-11-19  train\n",
       "3  aaee  35.487000  -79.062133  2016-08-24  train\n",
       "4  aaff  38.049471  -99.827001  2019-07-23  train"
      ]
     },
     "execution_count": 7,
     "metadata": {},
     "output_type": "execute_result"
    }
   ],
   "source": [
    "# Crear nuevo dataframe con los valores de uid que están en metadata pero no están en failed_points\n",
    "valid_points = pd.merge(metadata, failed_points['uid'], on='uid', how='left', indicator=True)\n",
    "valid_points = valid_points[valid_points['_merge'] == 'left_only']\n",
    "\n",
    "# Eliminar la columna auxiliar _merge\n",
    "valid_points = valid_points.drop('_merge', axis=1)\n",
    "\n",
    "valid_points.head()"
   ]
  },
  {
   "cell_type": "code",
   "execution_count": 8,
   "id": "f1ea176e-727f-4ff9-a4a5-1aca9aa64ee5",
   "metadata": {},
   "outputs": [
    {
     "data": {
      "text/plain": [
       "9476"
      ]
     },
     "execution_count": 8,
     "metadata": {},
     "output_type": "execute_result"
    }
   ],
   "source": [
    "len(valid_points)"
   ]
  },
  {
   "cell_type": "code",
   "execution_count": 9,
   "id": "71770e21-4b44-4e38-bdd6-35d50114658a",
   "metadata": {},
   "outputs": [],
   "source": [
    "example_row = get_row(valid_points, 'aabm')"
   ]
  },
  {
   "cell_type": "code",
   "execution_count": 10,
   "id": "62c726d6-06cb-4cf9-be46-37f8b9686559",
   "metadata": {},
   "outputs": [
    {
     "data": {
      "text/plain": [
       "uid                aabm\n",
       "latitude      39.080319\n",
       "longitude    -86.430867\n",
       "date         2018-05-14\n",
       "split             train\n",
       "Name: 0, dtype: object"
      ]
     },
     "execution_count": 10,
     "metadata": {},
     "output_type": "execute_result"
    }
   ],
   "source": [
    "example_row"
   ]
  },
  {
   "cell_type": "code",
   "execution_count": 11,
   "id": "8ce832b4-5a96-4f9a-8e72-2dd5bb80fa41",
   "metadata": {},
   "outputs": [],
   "source": [
    "dates = valid_points.date"
   ]
  },
  {
   "cell_type": "code",
   "execution_count": 12,
   "id": "6d6c90d5-ff79-4d06-bf92-6819015b6a39",
   "metadata": {},
   "outputs": [],
   "source": [
    "dates = dates.drop_duplicates()"
   ]
  },
  {
   "cell_type": "code",
   "execution_count": 13,
   "id": "e87e5330-e711-4c58-80bf-68f3c754ca0f",
   "metadata": {},
   "outputs": [
    {
     "data": {
      "text/plain": [
       "922"
      ]
     },
     "execution_count": 13,
     "metadata": {},
     "output_type": "execute_result"
    }
   ],
   "source": [
    "len(dates)"
   ]
  },
  {
   "cell_type": "code",
   "execution_count": 14,
   "id": "accb5276-023c-4b2e-9fe6-dc709ea7d496",
   "metadata": {},
   "outputs": [],
   "source": [
    "def get_url(date):\n",
    "    # Constants for creating the full URL\n",
    "    blob_container = 'https://noaa-hrrr-bdp-pds.s3.amazonaws.com'\n",
    "    sector = \"conus\"\n",
    "    date = datetime.strptime(example_row.date, \"%Y-%m-%d\").date()\n",
    "    cycle = 1           # noon\n",
    "    forecast_hour = 1   # offset from cycle time\n",
    "    product = \"wrfsfcf\" # 2D surface levels\n",
    "    \n",
    "    # Put it all together\n",
    "    file_path = f\"hrrr.t{cycle:02}z.{product}{forecast_hour:02}.grib2\"\n",
    "    url = f\"{blob_container}/hrrr.{date:%Y%m%d}/{sector}/{file_path}\"\n",
    "    return url"
   ]
  },
  {
   "cell_type": "code",
   "execution_count": 15,
   "id": "9b38c4ea-4f61-4ab1-8fbc-1efe25e4ba81",
   "metadata": {},
   "outputs": [],
   "source": [
    "def get_file(date):\n",
    "    url = get_url(date)\n",
    "    file_path = f'../data/downloaded/nrr/tmp/nrr_{date}.txt'\n",
    "    file_name = wget.download(url, out=file_path)\n",
    "    return file_name"
   ]
  },
  {
   "cell_type": "code",
   "execution_count": 16,
   "id": "32cae073-37c1-4600-95df-d395791609ae",
   "metadata": {},
   "outputs": [],
   "source": [
    "def get_features(file_name, row):\n",
    "    ds = xr.open_dataset(\n",
    "        file_name, \n",
    "        engine='cfgrib',\n",
    "        backend_kwargs={'indexpath':''},\n",
    "        filter_by_keys={'stepType': 'instant', 'typeOfLevel': 'surface'}\n",
    "    )\n",
    "    lat = row.latitude\n",
    "    lon = row.longitude + 360\n",
    "    \n",
    "    abslat = np.abs(ds.latitude-lat)\n",
    "    abslon = np.abs(ds.longitude-lon)\n",
    "    c = np.maximum(abslon, abslat)\n",
    "    \n",
    "    ([xloc], [yloc]) = np.where(c == np.min(c))\n",
    "    \n",
    "    meta_info = {'uid': example_row['uid']}\n",
    "    for varname, da in ds.sel(y=xloc, x=yloc).data_vars.items():\n",
    "        meta_info[da.attrs['long_name']] = da.values.item()\n",
    "    return meta_info"
   ]
  },
  {
   "cell_type": "code",
   "execution_count": 17,
   "id": "5f299b65-b257-42fd-b10c-25a1e5903240",
   "metadata": {},
   "outputs": [],
   "source": [
    "def gen_features(date, df, features):\n",
    "    file_name = get_file(date)\n",
    "    rows = df[df['date'] == date]\n",
    "    for _, row in rows.iterrows():\n",
    "        feature = get_features(file_name, row)\n",
    "        features.append(feature)\n",
    "    os.remove(file_name)"
   ]
  },
  {
   "cell_type": "code",
   "execution_count": 18,
   "id": "10e40b73-bdc6-40ff-bc5f-2e56ef1ed003",
   "metadata": {},
   "outputs": [
    {
     "name": "stdout",
     "output_type": "stream",
     "text": [
      "100% [......................................................................] 109515101 / 109515101CPU times: user 1min 16s, sys: 9.61 s, total: 1min 26s\n",
      "Wall time: 6min 26s\n"
     ]
    }
   ],
   "source": [
    "%%time\n",
    "feat = []\n",
    "date = example_row.date\n",
    "\n",
    "gen_features(date, valid_points, feat)"
   ]
  },
  {
   "cell_type": "code",
   "execution_count": 19,
   "id": "99860201-fd46-49ed-9227-179463447d5f",
   "metadata": {},
   "outputs": [],
   "source": [
    "test = valid_points[valid_points['date'] == example_row.date]"
   ]
  },
  {
   "cell_type": "code",
   "execution_count": 20,
   "id": "bd862536-a88c-423f-83e6-b88ca424a8a1",
   "metadata": {},
   "outputs": [
    {
     "data": {
      "text/plain": [
       "True"
      ]
     },
     "execution_count": 20,
     "metadata": {},
     "output_type": "execute_result"
    }
   ],
   "source": [
    "len(test) == len(feat)"
   ]
  },
  {
   "cell_type": "code",
   "execution_count": null,
   "id": "f3264f12-6fbd-466d-a42e-ee7387c7ad09",
   "metadata": {},
   "outputs": [],
   "source": []
  }
 ],
 "metadata": {
  "kernelspec": {
   "display_name": "Python 3 (ipykernel)",
   "language": "python",
   "name": "python3"
  },
  "language_info": {
   "codemirror_mode": {
    "name": "ipython",
    "version": 3
   },
   "file_extension": ".py",
   "mimetype": "text/x-python",
   "name": "python",
   "nbconvert_exporter": "python",
   "pygments_lexer": "ipython3",
   "version": "3.10.13"
  }
 },
 "nbformat": 4,
 "nbformat_minor": 5
}
