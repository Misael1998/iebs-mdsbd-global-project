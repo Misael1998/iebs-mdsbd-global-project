{
 "cells": [
  {
   "cell_type": "code",
   "execution_count": 1,
   "id": "da6478fd-0c10-42a7-a940-9c9dc3cf1593",
   "metadata": {},
   "outputs": [],
   "source": [
    "import os\n",
    "from multiprocessing import Pool, Manager\n",
    "import pandas as pd\n",
    "from geopy import distance\n",
    "from datetime import timedelta\n",
    "import planetary_computer as pc\n",
    "from pystac_client import Client\n",
    "import rioxarray\n",
    "import numpy as np\n",
    "import cv2\n",
    "from tqdm import tqdm\n",
    "import warnings"
   ]
  },
  {
   "cell_type": "code",
   "execution_count": 2,
   "id": "3d1bd674-ebfe-487d-9505-5dd715780bcd",
   "metadata": {},
   "outputs": [],
   "source": [
    "catalog = Client.open(\n",
    "    \"https://planetarycomputer.microsoft.com/api/stac/v1\", modifier=pc.sign_inplace\n",
    ")"
   ]
  },
  {
   "cell_type": "code",
   "execution_count": 3,
   "id": "2e13289d-8b23-4153-89a8-043b61a4a268",
   "metadata": {},
   "outputs": [],
   "source": [
    "# get our bounding box to search latitude and longitude coordinates\n",
    "def get_bounding_box(latitude, longitude, meter_buffer=3000):\n",
    "    \"\"\"\n",
    "    Given a latitude, longitude, and buffer in meters, returns a bounding\n",
    "    box around the point with the buffer on the left, right, top, and bottom.\n",
    "\n",
    "    Returns a list of [minx, miny, maxx, maxy]\n",
    "    \"\"\"\n",
    "    distance_search = distance.distance(meters=meter_buffer)\n",
    "\n",
    "    # calculate the lat/long bounds based on ground distance\n",
    "    # bearings are cardinal directions to move (south, west, north, and east)\n",
    "    min_lat = distance_search.destination((latitude, longitude), bearing=180)[0]\n",
    "    min_long = distance_search.destination((latitude, longitude), bearing=270)[1]\n",
    "    max_lat = distance_search.destination((latitude, longitude), bearing=0)[0]\n",
    "    max_long = distance_search.destination((latitude, longitude), bearing=90)[1]\n",
    "\n",
    "    return [min_long, min_lat, max_long, max_lat]"
   ]
  },
  {
   "cell_type": "code",
   "execution_count": 4,
   "id": "d74785ea-e28b-49bf-ad9b-16b739e196ac",
   "metadata": {},
   "outputs": [],
   "source": [
    "# get our date range to search, and format correctly for query\n",
    "def get_date_range(date, time_buffer_days=15):\n",
    "    \"\"\"Get a date range to search for in the planetary computer based\n",
    "    on a sample's date. The time range will include the sample date\n",
    "    and time_buffer_days days prior\n",
    "\n",
    "    Returns a string\"\"\"\n",
    "    datetime_format = \"%Y-%m-%d\"\n",
    "    range_start = pd.to_datetime(date) - timedelta(days=time_buffer_days)\n",
    "    date_range = f\"{range_start.strftime(datetime_format)}/{pd.to_datetime(date).strftime(datetime_format)}\"\n",
    "\n",
    "    return date_range"
   ]
  },
  {
   "cell_type": "code",
   "execution_count": 5,
   "id": "61a54ffe-18dc-47d7-9f50-54a5ef9a928c",
   "metadata": {},
   "outputs": [],
   "source": [
    "def crop_sentinel_image(item, bounding_box, band):\n",
    "    \"\"\"\n",
    "    Given a STAC item from Sentinel-2 and a bounding box tuple in the format\n",
    "    (minx, miny, maxx, maxy), return a cropped portion of the item's visual\n",
    "    imagery in the bounding box.\n",
    "\n",
    "    Returns the image as a numpy array with dimensions (color band, height, width)\n",
    "    \"\"\"\n",
    "    (minx, miny, maxx, maxy) = bounding_box\n",
    "\n",
    "    image = rioxarray.open_rasterio(pc.sign(item.assets[band].href)).rio.clip_box(\n",
    "        minx=minx,\n",
    "        miny=miny,\n",
    "        maxx=maxx,\n",
    "        maxy=maxy,\n",
    "        crs=\"EPSG:4326\",\n",
    "    )\n",
    "\n",
    "    return image.to_numpy()"
   ]
  },
  {
   "cell_type": "code",
   "execution_count": 6,
   "id": "79f478f2-a8c9-4e26-ab42-91841f298e9a",
   "metadata": {},
   "outputs": [],
   "source": [
    "# Get images\n",
    "def get_images(row):\n",
    "    \"\"\"\n",
    "    Given a row from the metadada, return 2 cropped images from sentinel\n",
    "    1. True color image\n",
    "    2. Water mask\n",
    "    \"\"\"\n",
    "    bbox = get_bounding_box(row.latitude, row.longitude, meter_buffer=3000)\n",
    "    date_range = get_date_range(row.date)\n",
    "    \n",
    "    # search the planetary computer sentinel-l2a and landsat level-2 collections\n",
    "    search = catalog.search(\n",
    "        collections=[\"sentinel-2-l2a\"], \n",
    "        bbox=bbox, \n",
    "        datetime=date_range,\n",
    "        query={\"eo:cloud_cover\": {\"lt\": 10}}\n",
    "    )\n",
    "    \n",
    "    # get items\n",
    "    items = [item for item in search.item_collection()]\n",
    "    \n",
    "    # get details of all of the items returned\n",
    "    item_details = pd.DataFrame(\n",
    "        [\n",
    "            {\n",
    "                \"datetime\": item.datetime.strftime(\"%Y-%m-%d\"),\n",
    "                \"platform\": item.properties[\"platform\"],\n",
    "                \"min_long\": item.bbox[0],\n",
    "                \"max_long\": item.bbox[2],\n",
    "                \"min_lat\": item.bbox[1],\n",
    "                \"max_lat\": item.bbox[3],\n",
    "                \"bbox\": item.bbox,\n",
    "                \"item_obj\": item,\n",
    "            }\n",
    "            for item in items\n",
    "        ]\n",
    "    )\n",
    "    \n",
    "    # check which rows actually contain the sample location\n",
    "    item_details[\"contains_sample_point\"] = (\n",
    "        (item_details.min_lat < row.latitude)\n",
    "        & (item_details.max_lat > row.latitude)\n",
    "        & (item_details.min_long < row.longitude)\n",
    "        & (item_details.max_long > row.longitude)\n",
    "    )\n",
    "    item_details = item_details[item_details[\"contains_sample_point\"]]\n",
    "    item_details[[\"datetime\", \"platform\", \"contains_sample_point\", \"bbox\"]].sort_values(\n",
    "        by=\"datetime\"\n",
    "    )\n",
    "    \n",
    "    #Get best item\n",
    "    best_item = (\n",
    "    item_details[item_details.platform.str.contains(\"Sentinel\")]\n",
    "    .sort_values(by=\"datetime\", ascending=False)\n",
    "    .iloc[0]\n",
    "    )\n",
    "    item = best_item.item_obj\n",
    "\n",
    "    bbox = get_bounding_box(row.latitude, row.longitude, meter_buffer=1000)\n",
    "    true_color = crop_sentinel_image(item, bbox, \"visual\")\n",
    "    scl = crop_sentinel_image(item, bbox, \"SCL\")\n",
    "    \n",
    "    # transpose\n",
    "    visual = np.transpose(true_color, axes=[1, 2, 0]).astype(np.uint8)\n",
    "    \n",
    "    # Return images\n",
    "    return visual, scl[0]"
   ]
  },
  {
   "cell_type": "code",
   "execution_count": 7,
   "id": "1ea86b77-b70e-405e-b750-18029b8e5ec8",
   "metadata": {},
   "outputs": [],
   "source": [
    "def get_features(row):\n",
    "    img, wm = get_images(row)\n",
    "    water_scaled = np.stack([cv2.resize(wm, (img.shape[1], img.shape[0]))] * 3, -1) == 6\n",
    "    f = {}\n",
    "    if water_scaled.sum() == 0:\n",
    "        f['uid'] = row.uid\n",
    "        f['r'] = np.nan\n",
    "        f['g'] = np.nan\n",
    "        f['b'] = np.nan\n",
    "        f['gmax'] = np.nan\n",
    "        f['gmin'] = np.nan\n",
    "        f['gvr'] = np.nan\n",
    "        f['gvb'] = np.nan\n",
    "        f['rvb'] = np.nan\n",
    "        f['gmaxvb'] = np.nan\n",
    "        f['gminvb'] = np.nan\n",
    "    else:\n",
    "        f['uid'] = row.uid\n",
    "        f['r'] = img[:, :, 0][water_scaled[:, :, 0]].mean()\n",
    "        f['g'] = img[:, :, 1][water_scaled[:, :, 1]].mean()\n",
    "        f['b'] = img[:, :, 2][water_scaled[:, :, 2]].mean()\n",
    "        f['gmax'] = np.percentile(img[:, :, 1][water_scaled[:, :, 1]], 95)\n",
    "        f['gmin'] = np.percentile(img[:, :, 1][water_scaled[:, :, 1]], 5)\n",
    "        f['gvr'] = f['g'] / f['r']\n",
    "        f['gvb'] = f['g'] / f['b']\n",
    "        f['rvb'] = f['r'] / f['b']\n",
    "        f['gmaxvb'] = f['gmax'] / f['b']\n",
    "        f['gminvb'] = f['gmin'] / f['b']\n",
    "    \n",
    "    return f"
   ]
  },
  {
   "cell_type": "code",
   "execution_count": 8,
   "id": "bd35150e-c391-4021-8b74-6f56709a49bf",
   "metadata": {},
   "outputs": [],
   "source": [
    "# Save Image\n",
    "def save_features(row, failed_points, features):\n",
    "    \"\"\"\n",
    "    Given a row, save the features generated\n",
    "    \"\"\"\n",
    "    try:\n",
    "        with warnings.catch_warnings():\n",
    "            warnings.simplefilter(\"error\")\n",
    "            features.append(get_features(row))\n",
    "    except Exception as e:\n",
    "        #print(e)\n",
    "        failed_points.append({'uid': row['uid']})"
   ]
  },
  {
   "cell_type": "code",
   "execution_count": 9,
   "id": "9fdecf61-4b9c-402e-a4d8-a9bc1ff9d70e",
   "metadata": {},
   "outputs": [],
   "source": [
    "metadata = pd.read_csv('../data/metadata.csv')"
   ]
  },
  {
   "cell_type": "code",
   "execution_count": 10,
   "id": "5a477c90-95f6-4034-9f91-95eb16ece592",
   "metadata": {},
   "outputs": [
    {
     "name": "stderr",
     "output_type": "stream",
     "text": [
      "100%|████████████████████████████████████████████████████████████████████████████████████████████████████████████████████████████████████████████████████████| 100/100 [00:16<00:00,  6.15it/s]"
     ]
    },
    {
     "name": "stdout",
     "output_type": "stream",
     "text": [
      "CPU times: user 77.6 ms, sys: 136 ms, total: 214 ms\n",
      "Wall time: 16.5 s\n"
     ]
    },
    {
     "name": "stderr",
     "output_type": "stream",
     "text": [
      "\n"
     ]
    }
   ],
   "source": [
    "%%time\n",
    "def save_features_wrapper(args):\n",
    "    r, failed_points, features = args\n",
    "    save_features(r, failed_points, features)\n",
    "\n",
    "# Utilizamos una lista compartida para almacenar los puntos válidos\n",
    "manager = Manager()\n",
    "failed_points = manager.list()\n",
    "features = manager.list()\n",
    "\n",
    "head = len(metadata.head(100))\n",
    "\n",
    "# Obtener el número total de filas\n",
    "total_rows = len(metadata.head(head))\n",
    "\n",
    "# Crear un iterable de argumentos para el método map\n",
    "args = [(r, failed_points, features) for _, r in metadata.head(head).iterrows()]\n",
    "\n",
    "# Crear un Pool de procesos\n",
    "with Pool(processes=32) as pool:\n",
    "    # Utilizar tqdm para la barra de progreso\n",
    "    with tqdm(total=total_rows) as pbar:\n",
    "        # Mapear la función sobre los argumentos\n",
    "        for _ in pool.imap_unordered(save_features_wrapper, args):\n",
    "            pbar.update(1)\n"
   ]
  },
  {
   "cell_type": "code",
   "execution_count": 11,
   "id": "3d61d71e-916d-4df3-b27d-c2aa39e9d0a3",
   "metadata": {},
   "outputs": [],
   "source": [
    "features_df = pd.DataFrame.from_records(features)\n",
    "#features_df.to_csv('../data/downloaded/sentinel/features.csv')"
   ]
  },
  {
   "cell_type": "code",
   "execution_count": 12,
   "id": "0da9ea3b-ffcc-4798-b79e-51f59f009938",
   "metadata": {},
   "outputs": [],
   "source": [
    "failed_df = pd.DataFrame.from_records(failed_points)\n",
    "#failed_df.to_csv('../data/downloaded/failed/sentinel.csv')"
   ]
  },
  {
   "cell_type": "code",
   "execution_count": 13,
   "id": "49eed49a-6d7c-466d-9cf2-e5a4ea5680ee",
   "metadata": {},
   "outputs": [
    {
     "data": {
      "text/plain": [
       "50"
      ]
     },
     "execution_count": 13,
     "metadata": {},
     "output_type": "execute_result"
    }
   ],
   "source": [
    "len(failed_points)"
   ]
  },
  {
   "cell_type": "code",
   "execution_count": 14,
   "id": "66f02bbd-5a5b-49f7-a80e-fe31db99a2a9",
   "metadata": {},
   "outputs": [
    {
     "data": {
      "text/plain": [
       "50"
      ]
     },
     "execution_count": 14,
     "metadata": {},
     "output_type": "execute_result"
    }
   ],
   "source": [
    "len(features)"
   ]
  },
  {
   "cell_type": "code",
   "execution_count": 15,
   "id": "fec374fe-c92d-4d8f-a3b2-1c68eeb2d394",
   "metadata": {},
   "outputs": [
    {
     "data": {
      "text/plain": [
       "0.5"
      ]
     },
     "execution_count": 15,
     "metadata": {},
     "output_type": "execute_result"
    }
   ],
   "source": [
    "len(failed_points)/len(metadata.head(head))"
   ]
  },
  {
   "cell_type": "code",
   "execution_count": 16,
   "id": "a1ae8e9d-7959-4952-a7b0-21e767c76eb3",
   "metadata": {},
   "outputs": [
    {
     "data": {
      "text/plain": [
       "0.5"
      ]
     },
     "execution_count": 16,
     "metadata": {},
     "output_type": "execute_result"
    }
   ],
   "source": [
    "len(features)/len(metadata.head(head))"
   ]
  },
  {
   "cell_type": "code",
   "execution_count": 17,
   "id": "7ae8d250-2b54-41a9-9e26-bcfce2db09f2",
   "metadata": {},
   "outputs": [
    {
     "name": "stdout",
     "output_type": "stream",
     "text": [
      "{'uid': 'abau', 'r': nan, 'g': nan, 'b': nan, 'gmax': nan, 'gmin': nan, 'gvr': nan, 'gvb': nan, 'rvb': nan, 'gmaxvb': nan, 'gminvb': nan}\n",
      "{'uid': 'aabm', 'r': 33.81514873921219, 'g': 52.5508413287691, 'b': 38.32712983944844, 'gmax': 62.0, 'gmin': 47.0, 'gvr': 1.5540621079046422, 'gvb': 1.3711134005834378, 'rvb': 0.8822770940809592, 'gmaxvb': 1.617653089592587, 'gminvb': 1.2262854066266384}\n",
      "{'uid': 'aajk', 'r': 60.40432623186511, 'g': 78.22376159979088, 'b': 54.2003659652333, 'gmax': 87.0, 'gmin': 72.0, 'gvr': 1.295002634406101, 'gvb': 1.4432330890527072, 'rvb': 1.1144634386899035, 'gmaxvb': 1.6051552134501443, 'gminvb': 1.3284043145794298}\n",
      "{'uid': 'aarq', 'r': 47.59121621621622, 'g': 41.600429975429975, 'b': 31.330773955773957, 'gmax': 163.0, 'gmin': 5.0, 'gvr': 0.8741199171383028, 'gvb': 1.327781753305951, 'rvb': 1.5189926774038602, 'gmaxvb': 5.202552615843079, 'gminvb': 0.15958750355346868}\n",
      "{'uid': 'aalr', 'r': 188.94818652849742, 'g': 182.5181347150259, 'b': 165.0777202072539, 'gmax': 255.0, 'gmin': 65.6, 'gvr': 0.9659692324567416, 'gvb': 1.1056497175141242, 'rvb': 1.144601381042059, 'gmaxvb': 1.5447269303201505, 'gminvb': 0.39738857501569363}\n",
      "{'uid': 'aafp', 'r': 106.05194805194805, 'g': 105.88311688311688, 'b': 89.14285714285714, 'gmax': 184.40000000000003, 'gmin': 33.0, 'gvr': 0.9984080333088416, 'gvb': 1.1877913752913754, 'rvb': 1.1896853146853146, 'gmaxvb': 2.0685897435897442, 'gminvb': 0.3701923076923077}\n",
      "{'uid': 'aauy', 'r': 66.6588785046729, 'g': 58.69626168224299, 'b': 39.94859813084112, 'gmax': 100.74999999999997, 'gmin': 30.65, 'gvr': 0.880546792849632, 'gvb': 1.4692946543455376, 'rvb': 1.6686162124225057, 'gmaxvb': 2.5219908761258623, 'gminvb': 0.7672359340273717}\n",
      "{'uid': 'aamp', 'r': 16.543516954954132, 'g': 28.72748847610789, 'b': 22.32257770069828, 'gmax': 43.0, 'gmin': 18.0, 'gvr': 1.7364801302122848, 'gvb': 1.2869252315430066, 'rvb': 0.741111406432091, 'gmaxvb': 1.9263008321236532, 'gminvb': 0.8063584878657153}\n",
      "{'uid': 'aabn', 'r': 75.72058823529412, 'g': 55.338235294117645, 'b': 32.85294117647059, 'gmax': 65.65, 'gmin': 45.0, 'gvr': 0.7308215187415031, 'gvb': 1.6844225604297225, 'rvb': 2.3048343777976723, 'gmaxvb': 1.9982990152193378, 'gminvb': 1.369740376007162}\n",
      "{'uid': 'aaxe', 'r': 69.52112676056338, 'g': 61.105633802816904, 'b': 42.43427230046948, 'gmax': 106.0, 'gmin': 11.75, 'gvr': 0.8789505672609401, 'gvb': 1.4400066382696246, 'rvb': 1.6383249432981137, 'gmaxvb': 2.4979808596559168, 'gminvb': 0.2768988217071417}\n",
      "{'uid': 'aauw', 'r': 169.16304347826087, 'g': 160.82065217391303, 'b': 141.5163043478261, 'gmax': 255.0, 'gmin': 87.15, 'gvr': 0.9506843153633617, 'gvb': 1.1364107684626905, 'rvb': 1.1953608049464266, 'gmaxvb': 1.801912515841622, 'gminvb': 0.6158301010023427}\n",
      "{'uid': 'abeu', 'r': 121.12698412698413, 'g': 111.95238095238095, 'b': 94.31746031746032, 'gmax': 182.6, 'gmin': 64.1, 'gvr': 0.9242563228934608, 'gvb': 1.1869740828004038, 'rvb': 1.2842477280376978, 'gmaxvb': 1.9360148098283405, 'gminvb': 0.679619656681252}\n",
      "{'uid': 'abkx', 'r': nan, 'g': nan, 'b': nan, 'gmax': nan, 'gmin': nan, 'gvr': nan, 'gvb': nan, 'rvb': nan, 'gmaxvb': nan, 'gminvb': nan}\n",
      "{'uid': 'aafl', 'r': 44.81870692484411, 'g': 65.21089596324254, 'b': 46.930226452248114, 'gmax': 134.0, 'gmin': 22.0, 'gvr': 1.4549928018359346, 'gvb': 1.389528687435488, 'rvb': 0.9550072589240008, 'gmaxvb': 2.855302650975829, 'gminvb': 0.4687810322497629}\n",
      "{'uid': 'aboc', 'r': 1.4965615704937538, 'g': 3.336942296252231, 'b': 13.789292088042831, 'gmax': 8.0, 'gmin': 1.0, 'gvr': 2.229739398661218, 'gvb': 0.24199518546320503, 'rvb': 0.1085307034573206, 'gmaxvb': 0.5801603119957894, 'gminvb': 0.07252003899947368}\n",
      "{'uid': 'aalw', 'r': 149.63064133016627, 'g': 130.96318289786223, 'b': 97.49287410926365, 'gmax': 225.94999999999993, 'gmin': 53.0, 'gvr': 0.8752430767765439, 'gvb': 1.3433103095420824, 'rvb': 1.5347854158291612, 'gmaxvb': 2.317605282071897, 'gminvb': 0.5436294753255613}\n",
      "{'uid': 'aacd', 'r': 95.17124394184168, 'g': 87.92353257942919, 'b': 68.80560043080237, 'gmax': 201.19999999999982, 'gmin': 28.0, 'gvr': 0.9238455749633628, 'gvb': 1.277854302977178, 'rvb': 1.3831903703471808, 'gmaxvb': 2.924180571643237, 'gminvb': 0.4069436183201327}\n",
      "{'uid': 'abdk', 'r': 18.73703715850579, 'g': 50.116034239611686, 'b': 30.506969269620544, 'gmax': 74.0, 'gmin': 33.0, 'gvr': 2.674704320413925, 'gvb': 1.6427732888405353, 'rvb': 0.6141887446408683, 'gmaxvb': 2.4256752398439887, 'gminvb': 1.0817200393898867}\n",
      "{'uid': 'aaql', 'r': 91.70819047619048, 'g': 135.59123809523808, 'b': 85.23961904761904, 'gmax': 155.0, 'gmin': 115.20000000000002, 'gvr': 1.4785073982071495, 'gvb': 1.590706758314935, 'rvb': 1.0758869115189003, 'gmaxvb': 1.8184032464224105, 'gminvb': 1.351484219276527}\n",
      "{'uid': 'aaqq', 'r': 100.96340552651232, 'g': 88.58924570575056, 'b': 68.05899925317401, 'gmax': 125.09999999999991, 'gmin': 56.0, 'gvr': 0.8774391597011614, 'gvb': 1.301653663407622, 'rvb': 1.4834688525309718, 'gmaxvb': 1.8381110708759905, 'gminvb': 0.822815507346567}\n",
      "{'uid': 'abdc', 'r': nan, 'g': nan, 'b': nan, 'gmax': nan, 'gmin': nan, 'gvr': nan, 'gvb': nan, 'rvb': nan, 'gmaxvb': nan, 'gminvb': nan}\n",
      "{'uid': 'aaff', 'r': 17.179123711340207, 'g': 20.59922680412371, 'b': 11.623711340206185, 'gmax': 39.25, 'gmin': 15.0, 'gvr': 1.1990848398469731, 'gvb': 1.7721729490022171, 'rvb': 1.4779379157427939, 'gmaxvb': 3.376718403547672, 'gminvb': 1.2904656319290466}\n",
      "{'uid': 'aagm', 'r': 123.36046511627907, 'g': 132.51162790697674, 'b': 107.19767441860465, 'gmax': 244.25, 'gmin': 71.25, 'gvr': 1.0741822980488265, 'gvb': 1.2361427486712224, 'rvb': 1.150775572187873, 'gmaxvb': 2.2785009220088948, 'gminvb': 0.6646599414253173}\n",
      "{'uid': 'aays', 'r': 29.83853459972863, 'g': 42.407135445765824, 'b': 36.38119562614734, 'gmax': 50.0, 'gmin': 37.0, 'gvr': 1.421220445797345, 'gvb': 1.1656333640472116, 'rvb': 0.8201636610942916, 'gmaxvb': 1.374336360844193, 'gminvb': 1.0170089070247028}\n",
      "{'uid': 'absk', 'r': nan, 'g': nan, 'b': nan, 'gmax': nan, 'gmin': nan, 'gvr': nan, 'gvb': nan, 'rvb': nan, 'gmaxvb': nan, 'gminvb': nan}\n",
      "{'uid': 'abjj', 'r': 34.539044224128325, 'g': 62.913445471761165, 'b': 42.871337863428764, 'gmax': 82.0, 'gmin': 40.0, 'gvr': 1.821516688866886, 'gvb': 1.4674943355436838, 'rvb': 0.8056441889953644, 'gmaxvb': 1.9126998149957386, 'gminvb': 0.9330242999979212}\n",
      "{'uid': 'abrn', 'r': 17.87148929077423, 'g': 36.94882906908909, 'b': 25.87123926993916, 'gmax': 47.0, 'gmin': 30.0, 'gvr': 2.0674734191382207, 'gvb': 1.4281816454003977, 'rvb': 0.6907859768256188, 'gmaxvb': 1.8166891624171713, 'gminvb': 1.15958882707479}\n",
      "{'uid': 'abso', 'r': nan, 'g': nan, 'b': nan, 'gmax': nan, 'gmin': nan, 'gvr': nan, 'gvb': nan, 'rvb': nan, 'gmaxvb': nan, 'gminvb': nan}\n",
      "{'uid': 'abjq', 'r': 191.76381909547737, 'g': 180.82412060301507, 'b': 155.33165829145727, 'gmax': 255.0, 'gmin': 84.9, 'gvr': 0.9429522287151805, 'gvb': 1.164116333991136, 'rvb': 1.2345443369674227, 'gmaxvb': 1.6416486040568083, 'gminvb': 0.5465724175859727}\n",
      "{'uid': 'acbt', 'r': 126.46875, 'g': 118.3125, 'b': 93.40625, 'gmax': 171.9, 'gmin': 60.95, 'gvr': 0.9355077835433655, 'gvb': 1.266644362663098, 'rvb': 1.3539645366343258, 'gmaxvb': 1.8403479424556708, 'gminvb': 0.6525259284041486}\n",
      "{'uid': 'abzk', 'r': 49.88841986773603, 'g': 62.12551006050373, 'b': 48.33239529102762, 'gmax': 65.0, 'gmin': 56.0, 'gvr': 1.2452891918647777, 'gvb': 1.2853803269302617, 'rvb': 1.0321942367502996, 'gmaxvb': 1.3448536868204115, 'gminvb': 1.1586431763375853}\n",
      "{'uid': 'acgm', 'r': 91.3, 'g': 108.575, 'b': 88.775, 'gmax': 255.0, 'gmin': 52.95, 'gvr': 1.18921139101862, 'gvb': 1.2230357645733596, 'rvb': 1.0284426921993803, 'gmaxvb': 2.8724303013235706, 'gminvb': 0.5964517037454238}\n",
      "{'uid': 'abzb', 'r': 66.18518518518519, 'g': 58.092592592592595, 'b': 39.55555555555556, 'gmax': 100.25, 'gmin': 29.5, 'gvr': 0.8777280358142138, 'gvb': 1.4686329588014981, 'rvb': 1.6732209737827717, 'gmaxvb': 2.5344101123595504, 'gminvb': 0.7457865168539326}\n",
      "{'uid': 'abqw', 'r': 85.52195121951219, 'g': 91.10365853658537, 'b': 73.68780487804878, 'gmax': 153.04999999999995, 'gmin': 44.0, 'gvr': 1.0652663700661649, 'gvb': 1.2363464848404608, 'rvb': 1.1605984377068714, 'gmaxvb': 2.0770058254998007, 'gminvb': 0.5971137296438501}\n",
      "{'uid': 'acix', 'r': 140.95238095238096, 'g': 123.21428571428571, 'b': 98.02380952380952, 'gmax': 227.29999999999995, 'gmin': 27.05, 'gvr': 0.8741554054054053, 'gvb': 1.2569832402234637, 'rvb': 1.4379402477532186, 'gmaxvb': 2.3188243866893368, 'gminvb': 0.2759533641000729}\n",
      "{'uid': 'accd', 'r': 129.94025797691785, 'g': 115.99355057705363, 'b': 85.77732518669382, 'gmax': 169.0, 'gmin': 75.0, 'gvr': 0.8926683106759595, 'gvb': 1.3522635536208945, 'rvb': 1.5148555599525129, 'gmaxvb': 1.9702176493866246, 'gminvb': 0.8743569449940641}\n",
      "{'uid': 'acje', 'r': 132.01839464882943, 'g': 114.87458193979933, 'b': 99.15886287625418, 'gmax': 241.44999999999993, 'gmin': 70.0, 'gvr': 0.8701407273233942, 'gvb': 1.1584903114828744, 'rvb': 1.3313827006425283, 'gmaxvb': 2.434981533635765, 'gminvb': 0.705937905796246}\n",
      "{'uid': 'acex', 'r': 200.84408602150538, 'g': 191.13440860215053, 'b': 163.48924731182797, 'gmax': 255.0, 'gmin': 125.0, 'gvr': 0.9516556468667183, 'gvb': 1.1690946759183136, 'rvb': 1.2284849879969746, 'gmaxvb': 1.559735604590746, 'gminvb': 0.7645762767601696}\n",
      "{'uid': 'abua', 'r': 16.83008226195754, 'g': 24.83988473474213, 'b': 27.82335845524851, 'gmax': 28.0, 'gmin': 22.0, 'gvr': 1.475921766044473, 'gvb': 0.8927708987646104, 'rvb': 0.6048903941279155, 'gmaxvb': 1.006348678037398, 'gminvb': 0.7907025327436699}\n",
      "{'uid': 'acld', 'r': 112.35, 'g': 127.2, 'b': 94.0, 'gmax': 249.15, 'gmin': 70.15, 'gvr': 1.1321762349799733, 'gvb': 1.353191489361702, 'rvb': 1.1952127659574467, 'gmaxvb': 2.6505319148936173, 'gminvb': 0.7462765957446809}\n",
      "{'uid': 'abxl', 'r': 74.83482142857143, 'g': 69.72544642857143, 'b': 48.636160714285715, 'gmax': 158.29999999999995, 'gmin': 26.0, 'gvr': 0.9317246316291833, 'gvb': 1.4336132911101933, 'rvb': 1.5386662995089266, 'gmaxvb': 3.2547799348295, 'gminvb': 0.5345816696498233}\n",
      "{'uid': 'acqu', 'r': 89.3728323699422, 'g': 87.94219653179191, 'b': 68.58092485549133, 'gmax': 140.25, 'gmin': 59.0, 'gvr': 0.9839924974937748, 'gvb': 1.2823127818281428, 'rvb': 1.3031733322095327, 'gmaxvb': 2.045029289055586, 'gminvb': 0.8602975262337225}\n",
      "{'uid': 'acpk', 'r': 89.0804289544236, 'g': 95.42895442359249, 'b': 73.95978552278821, 'gmax': 132.0, 'gmin': 73.0, 'gvr': 1.0712673428236072, 'gvb': 1.2902816544024358, 'rvb': 1.204444122231486, 'gmaxvb': 1.7847536883314603, 'gminvb': 0.9870228730923986}\n",
      "{'uid': 'actk', 'r': 33.116302263137705, 'g': 59.37790563866513, 'b': 41.49777522056003, 'gmax': 73.0, 'gmin': 52.0, 'gvr': 1.7930113442876636, 'gvb': 1.430869614649761, 'rvb': 0.7980259685519302, 'gmaxvb': 1.7591304500543978, 'gminvb': 1.2530792246962834}\n",
      "{'uid': 'abui', 'r': 92.28571428571429, 'g': 81.74285714285715, 'b': 56.114285714285714, 'gmax': 113.3, 'gmin': 59.0, 'gvr': 0.8857585139318885, 'gvb': 1.4567209775967414, 'rvb': 1.644602851323829, 'gmaxvb': 2.019093686354379, 'gminvb': 1.0514256619144602}\n",
      "{'uid': 'aaxb', 'r': 115.37837837837837, 'g': 105.54054054054055, 'b': 73.21621621621621, 'gmax': 175.2, 'gmin': 50.8, 'gvr': 0.9147341297727806, 'gvb': 1.4414913252122556, 'rvb': 1.575858250276855, 'gmaxvb': 2.3929125138427465, 'gminvb': 0.6938353636028055}\n",
      "{'uid': 'abit', 'r': 32.751296616448506, 'g': 45.92603111879476, 'b': 38.60595208693505, 'gmax': 53.0, 'gmin': 39.0, 'gvr': 1.40226604328482, 'gvb': 1.1896101154396075, 'rvb': 0.8483483723623056, 'gmaxvb': 1.372845303248878, 'gminvb': 1.0102069212586082}\n",
      "{'uid': 'aclb', 'r': 42.869448183041726, 'g': 54.55148048452221, 'b': 42.01043068640646, 'gmax': 114.0, 'gmin': 15.0, 'gvr': 1.272502511616225, 'gvb': 1.298522285851588, 'rvb': 1.0204477193544512, 'gmaxvb': 2.7136117896760243, 'gminvb': 0.35705418285210844}\n",
      "{'uid': 'abdw', 'r': 20.351308061932727, 'g': 20.346396155899626, 'b': 19.09183128670582, 'gmax': 41.0, 'gmin': 14.0, 'gvr': 0.9997586442100845, 'gvb': 1.0657121284152242, 'rvb': 1.0659694063033083, 'gmaxvb': 2.14751531083084, 'gminvb': 0.7332979110154088}\n",
      "{'uid': 'aaee', 'r': 81.29166666666667, 'g': 85.16666666666667, 'b': 71.33333333333333, 'gmax': 255.0, 'gmin': 12.0, 'gvr': 1.0476678626345464, 'gvb': 1.19392523364486, 'rvb': 1.139602803738318, 'gmaxvb': 3.5747663551401874, 'gminvb': 0.16822429906542058}\n"
     ]
    }
   ],
   "source": [
    "for i in features:\n",
    "    print(i)"
   ]
  },
  {
   "cell_type": "code",
   "execution_count": null,
   "id": "152464ea-a50f-4874-b61f-0c1bf4575126",
   "metadata": {},
   "outputs": [],
   "source": []
  }
 ],
 "metadata": {
  "kernelspec": {
   "display_name": "Python 3 (ipykernel)",
   "language": "python",
   "name": "python3"
  },
  "language_info": {
   "codemirror_mode": {
    "name": "ipython",
    "version": 3
   },
   "file_extension": ".py",
   "mimetype": "text/x-python",
   "name": "python",
   "nbconvert_exporter": "python",
   "pygments_lexer": "ipython3",
   "version": "3.10.13"
  }
 },
 "nbformat": 4,
 "nbformat_minor": 5
}
