{
 "cells": [
  {
   "cell_type": "code",
   "execution_count": 12,
   "id": "e0c854c1-5e12-47bb-80f0-d59970e0d106",
   "metadata": {},
   "outputs": [],
   "source": [
    "import numpy as np\n",
    "import matplotlib.pyplot as plt\n",
    "import pandas as pd\n",
    "from datetime import datetime \n",
    "from sklearn import metrics\n",
    "from sklearn.metrics import roc_auc_score\n",
    "from sklearn.metrics import confusion_matrix\n",
    "from sklearn.ensemble import GradientBoostingRegressor, GradientBoostingClassifier\n",
    "from sklearn.model_selection import GridSearchCV\n",
    "from sklearn.model_selection import train_test_split"
   ]
  },
  {
   "cell_type": "code",
   "execution_count": 2,
   "id": "9bfc5404-eeae-4c12-af5a-d8310d7eafd1",
   "metadata": {},
   "outputs": [],
   "source": [
    "train_features = pd.read_csv('../data/train_features.csv').drop(['Unnamed: 0'], axis=1)"
   ]
  },
  {
   "cell_type": "code",
   "execution_count": 3,
   "id": "a75f83aa-bf9f-4038-86ab-813f13d1d064",
   "metadata": {},
   "outputs": [],
   "source": [
    "X = train_features\n",
    "Y = train_features.severity\n",
    "\n",
    "X['month'] = pd.DatetimeIndex(X.date).month\n",
    "X['year'] = pd.DatetimeIndex(X.date).year\n",
    "X = X.drop(['latitude', 'longitude', 'year', 'uid', 'date', 'split', 'severity', 'density'], axis=1)\n",
    "X['region'] = X['region'].map({\n",
    "    'midwest': 0,\n",
    "    'south': 1,\n",
    "    'northeast': 2,\n",
    "    'west': 3\n",
    "})"
   ]
  },
  {
   "cell_type": "code",
   "execution_count": 4,
   "id": "b282490a-7f43-4d07-b5e1-3ea3ad001199",
   "metadata": {},
   "outputs": [],
   "source": [
    "X_train, X_test, y_train, y_test = train_test_split(X, Y, test_size=0.2, random_state=42)"
   ]
  },
  {
   "cell_type": "code",
   "execution_count": 5,
   "id": "58f89ac9-b511-4657-9c60-576d55cdd064",
   "metadata": {},
   "outputs": [],
   "source": [
    "gb_param_grid = {\n",
    "    'n_estimators': [500,1000,3000],\n",
    "    'learning_rate': [0.05, 0.1, 0.5, 1],\n",
    "    'max_features': [2,5,7,10,20],\n",
    "    'min_samples_split': [5,10,15],\n",
    "    'loss': ['absolute_error', 'squared_error'],\n",
    "    'subsample': [0.1,0.5,1.0]\n",
    "}\n",
    "gb = GradientBoostingRegressor()"
   ]
  },
  {
   "cell_type": "code",
   "execution_count": 6,
   "id": "8e9bca44-f488-40b6-bed7-a52a90767e36",
   "metadata": {},
   "outputs": [],
   "source": [
    "gb_grid_search = GridSearchCV(estimator=gb,param_grid=gb_param_grid, n_jobs=-1, verbose=1)"
   ]
  },
  {
   "cell_type": "code",
   "execution_count": 7,
   "id": "45488fe1-cbef-4d8d-ac17-f624543d8de6",
   "metadata": {},
   "outputs": [
    {
     "name": "stdout",
     "output_type": "stream",
     "text": [
      "Fitting 5 folds for each of 1080 candidates, totalling 5400 fits\n"
     ]
    },
    {
     "name": "stderr",
     "output_type": "stream",
     "text": [
      "/home/misa/Documents/Master/Global Project/iebs-mdsbd-global-project/venv/lib/python3.10/site-packages/sklearn/model_selection/_search.py:1062: RuntimeWarning: overflow encountered in square\n",
      "  (array - array_means[:, np.newaxis]) ** 2, axis=1, weights=weights\n"
     ]
    },
    {
     "name": "stdout",
     "output_type": "stream",
     "text": [
      "CPU times: user 18.3 s, sys: 3.57 s, total: 21.9 s\n",
      "Wall time: 47min 7s\n"
     ]
    },
    {
     "data": {
      "text/plain": [
       "{'learning_rate': 0.1,\n",
       " 'loss': 'squared_error',\n",
       " 'max_features': 10,\n",
       " 'min_samples_split': 5,\n",
       " 'n_estimators': 500,\n",
       " 'subsample': 1.0}"
      ]
     },
     "execution_count": 7,
     "metadata": {},
     "output_type": "execute_result"
    }
   ],
   "source": [
    "%%time\n",
    "gb_grid_search.fit(X_train, y_train)\n",
    "\n",
    "gb_grid_search.best_params_"
   ]
  },
  {
   "cell_type": "code",
   "execution_count": 8,
   "id": "a6cf071d-f45d-48ab-b2d0-ce6842ed2d29",
   "metadata": {},
   "outputs": [],
   "source": [
    "y_pred = gb_grid_search.best_estimator_.predict(X_test)"
   ]
  },
  {
   "cell_type": "code",
   "execution_count": 9,
   "id": "9f2212f7-4648-492d-852e-b55da2546d0b",
   "metadata": {},
   "outputs": [
    {
     "data": {
      "text/plain": [
       "0.7138047385025224"
      ]
     },
     "execution_count": 9,
     "metadata": {},
     "output_type": "execute_result"
    }
   ],
   "source": [
    "metrics.root_mean_squared_error(y_test, y_pred)"
   ]
  },
  {
   "cell_type": "code",
   "execution_count": 10,
   "id": "d6e999f2-3e0c-47a3-89c6-7d621c3031a2",
   "metadata": {},
   "outputs": [],
   "source": [
    "y_pred = gb_grid_search.best_estimator_.predict(X_test)\n",
    "y_pred = np.round(y_pred)"
   ]
  },
  {
   "cell_type": "code",
   "execution_count": 11,
   "id": "d930f26f-34d3-4fce-a35c-2896e2f48fb8",
   "metadata": {},
   "outputs": [
    {
     "data": {
      "text/plain": [
       "0.7634734760784071"
      ]
     },
     "execution_count": 11,
     "metadata": {},
     "output_type": "execute_result"
    }
   ],
   "source": [
    "metrics.root_mean_squared_error(y_test, y_pred)"
   ]
  },
  {
   "cell_type": "code",
   "execution_count": 16,
   "id": "53e7a710-6691-40ba-b9b1-cb9ba1ff8755",
   "metadata": {},
   "outputs": [],
   "source": [
    "gbc_param_grid = {\n",
    "    'n_estimators': [500,1000,3000],\n",
    "    'learning_rate': [0.05, 0.1, 0.5, 1],\n",
    "    'max_features': [2,5,7,10,20],\n",
    "    'min_samples_split': [5,10,15],\n",
    "    'loss': ['log_loss', 'exponential'],\n",
    "    'subsample': [0.1,0.5,1.0]\n",
    "}\n",
    "gbc = GradientBoostingClassifier()"
   ]
  },
  {
   "cell_type": "code",
   "execution_count": 17,
   "id": "fd7167c4-0f9d-4a06-9fbc-2177d1874ec3",
   "metadata": {},
   "outputs": [],
   "source": [
    "gbc_grid_search = GridSearchCV(estimator=gbc,param_grid=gbc_param_grid, n_jobs=-1, verbose=1)"
   ]
  },
  {
   "cell_type": "code",
   "execution_count": 18,
   "id": "5241fcdf-f9b8-4094-896c-450e391cc960",
   "metadata": {},
   "outputs": [
    {
     "name": "stdout",
     "output_type": "stream",
     "text": [
      "Fitting 5 folds for each of 1080 candidates, totalling 5400 fits\n"
     ]
    },
    {
     "name": "stderr",
     "output_type": "stream",
     "text": [
      "/home/misa/Documents/Master/Global Project/iebs-mdsbd-global-project/venv/lib/python3.10/site-packages/sklearn/model_selection/_validation.py:547: FitFailedWarning: \n",
      "2700 fits failed out of a total of 5400.\n",
      "The score on these train-test partitions for these parameters will be set to nan.\n",
      "If these failures are not expected, you can try to debug them by setting error_score='raise'.\n",
      "\n",
      "Below are more details about the failures:\n",
      "--------------------------------------------------------------------------------\n",
      "2700 fits failed with the following error:\n",
      "Traceback (most recent call last):\n",
      "  File \"/home/misa/Documents/Master/Global Project/iebs-mdsbd-global-project/venv/lib/python3.10/site-packages/sklearn/model_selection/_validation.py\", line 895, in _fit_and_score\n",
      "    estimator.fit(X_train, y_train, **fit_params)\n",
      "  File \"/home/misa/Documents/Master/Global Project/iebs-mdsbd-global-project/venv/lib/python3.10/site-packages/sklearn/base.py\", line 1474, in wrapper\n",
      "    return fit_method(estimator, *args, **kwargs)\n",
      "  File \"/home/misa/Documents/Master/Global Project/iebs-mdsbd-global-project/venv/lib/python3.10/site-packages/sklearn/ensemble/_gb.py\", line 673, in fit\n",
      "    self._loss = self._get_loss(sample_weight=sample_weight)\n",
      "  File \"/home/misa/Documents/Master/Global Project/iebs-mdsbd-global-project/venv/lib/python3.10/site-packages/sklearn/ensemble/_gb.py\", line 1537, in _get_loss\n",
      "    raise ValueError(\n",
      "ValueError: loss='exponential' is only suitable for a binary classification problem, you have n_classes=5. Please use loss='log_loss' instead.\n",
      "\n",
      "  warnings.warn(some_fits_failed_message, FitFailedWarning)\n",
      "/home/misa/Documents/Master/Global Project/iebs-mdsbd-global-project/venv/lib/python3.10/site-packages/sklearn/model_selection/_search.py:1051: UserWarning: One or more of the test scores are non-finite: [0.4244234  0.66723754 0.66837157 ...        nan        nan        nan]\n",
      "  warnings.warn(\n"
     ]
    },
    {
     "name": "stdout",
     "output_type": "stream",
     "text": [
      "CPU times: user 26.4 s, sys: 8.02 s, total: 34.4 s\n",
      "Wall time: 1h 59min 21s\n"
     ]
    },
    {
     "data": {
      "text/plain": [
       "{'learning_rate': 0.05,\n",
       " 'loss': 'log_loss',\n",
       " 'max_features': 2,\n",
       " 'min_samples_split': 15,\n",
       " 'n_estimators': 500,\n",
       " 'subsample': 1.0}"
      ]
     },
     "execution_count": 18,
     "metadata": {},
     "output_type": "execute_result"
    }
   ],
   "source": [
    "%%time\n",
    "gbc_grid_search.fit(X_train, y_train)\n",
    "\n",
    "gbc_grid_search.best_params_"
   ]
  },
  {
   "cell_type": "code",
   "execution_count": 21,
   "id": "fdb27142-e0c3-47b8-9f15-92bae438e8fa",
   "metadata": {},
   "outputs": [],
   "source": [
    "y_pred = gbc_grid_search.best_estimator_.predict(X_test)"
   ]
  },
  {
   "cell_type": "code",
   "execution_count": 22,
   "id": "c127c26d-1e6b-49c9-8122-000cf43f5f63",
   "metadata": {},
   "outputs": [
    {
     "data": {
      "text/plain": [
       "0.8462411880619172"
      ]
     },
     "execution_count": 22,
     "metadata": {},
     "output_type": "execute_result"
    }
   ],
   "source": [
    "metrics.root_mean_squared_error(y_test, y_pred)"
   ]
  },
  {
   "cell_type": "code",
   "execution_count": null,
   "id": "fd343d79-85ad-4139-93ec-d044b87d8570",
   "metadata": {},
   "outputs": [],
   "source": []
  }
 ],
 "metadata": {
  "kernelspec": {
   "display_name": "Python 3 (ipykernel)",
   "language": "python",
   "name": "python3"
  },
  "language_info": {
   "codemirror_mode": {
    "name": "ipython",
    "version": 3
   },
   "file_extension": ".py",
   "mimetype": "text/x-python",
   "name": "python",
   "nbconvert_exporter": "python",
   "pygments_lexer": "ipython3",
   "version": "3.10.13"
  }
 },
 "nbformat": 4,
 "nbformat_minor": 5
}
