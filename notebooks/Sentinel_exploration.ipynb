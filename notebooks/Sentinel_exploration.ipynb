{
 "cells": [
  {
   "cell_type": "code",
   "execution_count": 1,
   "id": "0cd9c843-230b-4906-941a-576e1194987a",
   "metadata": {},
   "outputs": [],
   "source": [
    "import cv2\n",
    "from datetime import timedelta\n",
    "import matplotlib.pyplot as plt\n",
    "import numpy as np\n",
    "import odc.stac\n",
    "import pandas as pd\n",
    "from pathlib import Path\n",
    "from sklearn.metrics import mean_squared_error\n",
    "from sklearn.preprocessing import StandardScaler\n",
    "from tqdm import tqdm\n",
    "import geopy.distance as distance\n",
    "import rioxarray\n",
    "from multiprocessing import Pool, Manager\n",
    "\n",
    "%matplotlib inline"
   ]
  },
  {
   "cell_type": "code",
   "execution_count": 2,
   "id": "213c2e54-9c02-42f8-a4c1-072fe71c5301",
   "metadata": {},
   "outputs": [],
   "source": [
    "# Establish a connection to the STAC API\n",
    "import planetary_computer as pc\n",
    "from pystac_client import Client\n",
    "\n",
    "catalog = Client.open(\n",
    "    \"https://planetarycomputer.microsoft.com/api/stac/v1\", modifier=pc.sign_inplace\n",
    ")"
   ]
  },
  {
   "cell_type": "code",
   "execution_count": 3,
   "id": "0c18eddc-11d2-4d22-9129-a76321c472ca",
   "metadata": {},
   "outputs": [],
   "source": [
    "metadata = pd.read_csv('../data/metadata.csv')"
   ]
  },
  {
   "cell_type": "code",
   "execution_count": 4,
   "id": "80bbd14a-4ebb-475a-bc5d-4e8628876274",
   "metadata": {},
   "outputs": [],
   "source": [
    "# get our bounding box to search latitude and longitude coordinates\n",
    "def get_bounding_box(latitude, longitude, meter_buffer=50000):\n",
    "    \"\"\"\n",
    "    Given a latitude, longitude, and buffer in meters, returns a bounding\n",
    "    box around the point with the buffer on the left, right, top, and bottom.\n",
    "\n",
    "    Returns a list of [minx, miny, maxx, maxy]\n",
    "    \"\"\"\n",
    "    distance_search = distance.distance(meters=meter_buffer)\n",
    "\n",
    "    # calculate the lat/long bounds based on ground distance\n",
    "    # bearings are cardinal directions to move (south, west, north, and east)\n",
    "    min_lat = distance_search.destination((latitude, longitude), bearing=180)[0]\n",
    "    min_long = distance_search.destination((latitude, longitude), bearing=270)[1]\n",
    "    max_lat = distance_search.destination((latitude, longitude), bearing=0)[0]\n",
    "    max_long = distance_search.destination((latitude, longitude), bearing=90)[1]\n",
    "\n",
    "    return [min_long, min_lat, max_long, max_lat]"
   ]
  },
  {
   "cell_type": "code",
   "execution_count": 5,
   "id": "3645b622-a25d-4173-9bba-75307d73b361",
   "metadata": {},
   "outputs": [],
   "source": [
    "# get our date range to search, and format correctly for query\n",
    "def get_date_range(date, time_buffer_days=15):\n",
    "    \"\"\"Get a date range to search for in the planetary computer based\n",
    "    on a sample's date. The time range will include the sample date\n",
    "    and time_buffer_days days prior\n",
    "\n",
    "    Returns a string\"\"\"\n",
    "    datetime_format = \"%Y-%m-%d\"\n",
    "    range_start = pd.to_datetime(date) - timedelta(days=time_buffer_days)\n",
    "    date_range = f\"{range_start.strftime(datetime_format)}/{pd.to_datetime(date).strftime(datetime_format)}\"\n",
    "\n",
    "    return date_range\n"
   ]
  },
  {
   "cell_type": "code",
   "execution_count": 6,
   "id": "0e1f8d20-ec19-40c3-97f2-d723a974464d",
   "metadata": {},
   "outputs": [
    {
     "data": {
      "text/plain": [
       "uid                abau\n",
       "latitude      35.682235\n",
       "longitude    -79.207716\n",
       "date         2016-06-21\n",
       "split             train\n",
       "Name: 38, dtype: object"
      ]
     },
     "execution_count": 6,
     "metadata": {},
     "output_type": "execute_result"
    }
   ],
   "source": [
    "example_row = metadata[metadata.uid == \"abau\"].iloc[0]\n",
    "example_row"
   ]
  },
  {
   "cell_type": "code",
   "execution_count": 7,
   "id": "1e4c2715-1290-4f52-8086-c33ebe885b76",
   "metadata": {},
   "outputs": [
    {
     "data": {
      "text/plain": [
       "[-79.2408561511984, 35.655196598132996, -79.17457539511959, 35.70927349061358]"
      ]
     },
     "execution_count": 7,
     "metadata": {},
     "output_type": "execute_result"
    }
   ],
   "source": [
    "bbox = get_bounding_box(example_row.latitude, example_row.longitude, meter_buffer=3000)\n",
    "bbox"
   ]
  },
  {
   "cell_type": "code",
   "execution_count": 8,
   "id": "4fded17c-8ce3-4d98-9eb0-48d97f99413d",
   "metadata": {},
   "outputs": [
    {
     "data": {
      "text/plain": [
       "'2016-06-06/2016-06-21'"
      ]
     },
     "execution_count": 8,
     "metadata": {},
     "output_type": "execute_result"
    }
   ],
   "source": [
    "date_range = get_date_range(example_row.date, 15)\n",
    "date_range"
   ]
  },
  {
   "cell_type": "code",
   "execution_count": 9,
   "id": "dbaedc5b-d53c-4b47-abcd-8a19352b5c63",
   "metadata": {},
   "outputs": [
    {
     "data": {
      "text/plain": [
       "1"
      ]
     },
     "execution_count": 9,
     "metadata": {},
     "output_type": "execute_result"
    }
   ],
   "source": [
    "# search the planetary computer sentinel-l2a\n",
    "search = catalog.search(\n",
    "    collections=[\"sentinel-2-l2a\"], bbox=bbox, datetime=date_range\n",
    ")\n",
    "\n",
    "# see how many items were returned\n",
    "items = [item for item in search.item_collection()]\n",
    "len(items)"
   ]
  },
  {
   "cell_type": "code",
   "execution_count": 10,
   "id": "c69a5604-80a5-4755-b39d-dcc2e629426c",
   "metadata": {},
   "outputs": [
    {
     "name": "stdout",
     "output_type": "stream",
     "text": [
      "Filtering from 1 returned to 1 items that contain the sample location\n"
     ]
    },
    {
     "data": {
      "text/html": [
       "<div>\n",
       "<style scoped>\n",
       "    .dataframe tbody tr th:only-of-type {\n",
       "        vertical-align: middle;\n",
       "    }\n",
       "\n",
       "    .dataframe tbody tr th {\n",
       "        vertical-align: top;\n",
       "    }\n",
       "\n",
       "    .dataframe thead th {\n",
       "        text-align: right;\n",
       "    }\n",
       "</style>\n",
       "<table border=\"1\" class=\"dataframe\">\n",
       "  <thead>\n",
       "    <tr style=\"text-align: right;\">\n",
       "      <th></th>\n",
       "      <th>datetime</th>\n",
       "      <th>platform</th>\n",
       "      <th>contains_sample_point</th>\n",
       "      <th>bbox</th>\n",
       "    </tr>\n",
       "  </thead>\n",
       "  <tbody>\n",
       "    <tr>\n",
       "      <th>0</th>\n",
       "      <td>2016-06-10</td>\n",
       "      <td>Sentinel-2A</td>\n",
       "      <td>True</td>\n",
       "      <td>[-79.90214616115195, 35.13300633202725, -78.66...</td>\n",
       "    </tr>\n",
       "  </tbody>\n",
       "</table>\n",
       "</div>"
      ],
      "text/plain": [
       "     datetime     platform  contains_sample_point  \\\n",
       "0  2016-06-10  Sentinel-2A                   True   \n",
       "\n",
       "                                                bbox  \n",
       "0  [-79.90214616115195, 35.13300633202725, -78.66...  "
      ]
     },
     "execution_count": 10,
     "metadata": {},
     "output_type": "execute_result"
    }
   ],
   "source": [
    "# get details of all of the items returned\n",
    "item_details = pd.DataFrame(\n",
    "    [\n",
    "        {\n",
    "            \"datetime\": item.datetime.strftime(\"%Y-%m-%d\"),\n",
    "            \"platform\": item.properties[\"platform\"],\n",
    "            \"min_long\": item.bbox[0],\n",
    "            \"max_long\": item.bbox[2],\n",
    "            \"min_lat\": item.bbox[1],\n",
    "            \"max_lat\": item.bbox[3],\n",
    "            \"bbox\": item.bbox,\n",
    "            \"item_obj\": item,\n",
    "        }\n",
    "        for item in items\n",
    "    ]\n",
    ")\n",
    "\n",
    "# check which rows actually contain the sample location\n",
    "item_details[\"contains_sample_point\"] = (\n",
    "    (item_details.min_lat < example_row.latitude)\n",
    "    & (item_details.max_lat > example_row.latitude)\n",
    "    & (item_details.min_long < example_row.longitude)\n",
    "    & (item_details.max_long > example_row.longitude)\n",
    ")\n",
    "\n",
    "print(\n",
    "    f\"Filtering from {len(item_details)} returned to {item_details.contains_sample_point.sum()} items that contain the sample location\"\n",
    ")\n",
    "\n",
    "item_details = item_details[item_details[\"contains_sample_point\"]]\n",
    "item_details[[\"datetime\", \"platform\", \"contains_sample_point\", \"bbox\"]].sort_values(\n",
    "    by=\"datetime\"\n",
    ")"
   ]
  },
  {
   "cell_type": "code",
   "execution_count": 11,
   "id": "63e72bf2-e080-4553-936d-0c2a65898b45",
   "metadata": {},
   "outputs": [
    {
     "data": {
      "text/html": [
       "<div>\n",
       "<style scoped>\n",
       "    .dataframe tbody tr th:only-of-type {\n",
       "        vertical-align: middle;\n",
       "    }\n",
       "\n",
       "    .dataframe tbody tr th {\n",
       "        vertical-align: top;\n",
       "    }\n",
       "\n",
       "    .dataframe thead th {\n",
       "        text-align: right;\n",
       "    }\n",
       "</style>\n",
       "<table border=\"1\" class=\"dataframe\">\n",
       "  <thead>\n",
       "    <tr style=\"text-align: right;\">\n",
       "      <th></th>\n",
       "      <th>datetime</th>\n",
       "      <th>platform</th>\n",
       "      <th>min_long</th>\n",
       "      <th>max_long</th>\n",
       "      <th>min_lat</th>\n",
       "      <th>max_lat</th>\n",
       "      <th>bbox</th>\n",
       "      <th>item_obj</th>\n",
       "      <th>contains_sample_point</th>\n",
       "    </tr>\n",
       "  </thead>\n",
       "  <tbody>\n",
       "    <tr>\n",
       "      <th>0</th>\n",
       "      <td>2016-06-10</td>\n",
       "      <td>Sentinel-2A</td>\n",
       "      <td>-79.902146</td>\n",
       "      <td>-78.668785</td>\n",
       "      <td>35.133006</td>\n",
       "      <td>36.139741</td>\n",
       "      <td>[-79.90214616115195, 35.13300633202725, -78.66...</td>\n",
       "      <td>&lt;Item id=S2A_MSIL2A_20160610T155412_R054_T17SP...</td>\n",
       "      <td>True</td>\n",
       "    </tr>\n",
       "  </tbody>\n",
       "</table>\n",
       "</div>"
      ],
      "text/plain": [
       "     datetime     platform   min_long   max_long    min_lat    max_lat  \\\n",
       "0  2016-06-10  Sentinel-2A -79.902146 -78.668785  35.133006  36.139741   \n",
       "\n",
       "                                                bbox  \\\n",
       "0  [-79.90214616115195, 35.13300633202725, -78.66...   \n",
       "\n",
       "                                            item_obj  contains_sample_point  \n",
       "0  <Item id=S2A_MSIL2A_20160610T155412_R054_T17SP...                   True  "
      ]
     },
     "execution_count": 11,
     "metadata": {},
     "output_type": "execute_result"
    }
   ],
   "source": [
    "# 1 - filter to sentinel\n",
    "item_details[item_details.platform.str.contains(\"Sentinel\")]"
   ]
  },
  {
   "cell_type": "code",
   "execution_count": 12,
   "id": "4ebac4e1-e2d7-43c8-bd0a-3032a0592b50",
   "metadata": {},
   "outputs": [
    {
     "data": {
      "text/plain": [
       "datetime                                                        2016-06-10\n",
       "platform                                                       Sentinel-2A\n",
       "min_long                                                        -79.902146\n",
       "max_long                                                        -78.668785\n",
       "min_lat                                                          35.133006\n",
       "max_lat                                                          36.139741\n",
       "bbox                     [-79.90214616115195, 35.13300633202725, -78.66...\n",
       "item_obj                 <Item id=S2A_MSIL2A_20160610T155412_R054_T17SP...\n",
       "contains_sample_point                                                 True\n",
       "Name: 0, dtype: object"
      ]
     },
     "execution_count": 12,
     "metadata": {},
     "output_type": "execute_result"
    }
   ],
   "source": [
    "# 2 - take closest by date\n",
    "best_item = (\n",
    "    item_details[item_details.platform.str.contains(\"Sentinel\")]\n",
    "    .sort_values(by=\"datetime\", ascending=False)\n",
    "    .iloc[0]\n",
    ")\n",
    "best_item"
   ]
  },
  {
   "cell_type": "code",
   "execution_count": 13,
   "id": "abb0e31a-75f6-40fe-bab2-7fe98a30d00f",
   "metadata": {},
   "outputs": [],
   "source": [
    "item = best_item.item_obj"
   ]
  },
  {
   "cell_type": "code",
   "execution_count": 14,
   "id": "6d17d24a-c385-4390-9a97-1b32fff02603",
   "metadata": {},
   "outputs": [
    {
     "name": "stdout",
     "output_type": "stream",
     "text": [
      "AOT                       - Aerosol optical thickness (AOT)\n",
      "B01                       - Band 1 - Coastal aerosol - 60m\n",
      "B02                       - Band 2 - Blue - 10m\n",
      "B03                       - Band 3 - Green - 10m\n",
      "B04                       - Band 4 - Red - 10m\n",
      "B05                       - Band 5 - Vegetation red edge 1 - 20m\n",
      "B06                       - Band 6 - Vegetation red edge 2 - 20m\n",
      "B07                       - Band 7 - Vegetation red edge 3 - 20m\n",
      "B08                       - Band 8 - NIR - 10m\n",
      "B09                       - Band 9 - Water vapor - 60m\n",
      "B11                       - Band 11 - SWIR (1.6) - 20m\n",
      "B12                       - Band 12 - SWIR (2.2) - 20m\n",
      "B8A                       - Band 8A - Vegetation red edge 4 - 20m\n",
      "SCL                       - Scene classfication map (SCL)\n",
      "WVP                       - Water vapour (WVP)\n",
      "visual                    - True color image\n",
      "preview                   - Thumbnail\n",
      "safe-manifest             - SAFE manifest\n",
      "granule-metadata          - Granule metadata\n",
      "inspire-metadata          - INSPIRE metadata\n",
      "product-metadata          - Product metadata\n",
      "datastrip-metadata        - Datastrip metadata\n",
      "tilejson                  - TileJSON with default rendering\n",
      "rendered_preview          - Rendered preview\n"
     ]
    }
   ],
   "source": [
    "# What assets are available?\n",
    "for asset_key, asset in item.assets.items():\n",
    "    print(f\"{asset_key:<25} - {asset.title}\")"
   ]
  },
  {
   "cell_type": "code",
   "execution_count": 15,
   "id": "62b63157-10ab-43ac-8d9b-01df2ce5a22e",
   "metadata": {},
   "outputs": [],
   "source": [
    "def crop_sentinel_image(item, bounding_box, band):\n",
    "    \"\"\"\n",
    "    Given a STAC item from Sentinel-2 and a bounding box tuple in the format\n",
    "    (minx, miny, maxx, maxy), return a cropped portion of the item's visual\n",
    "    imagery in the bounding box.\n",
    "\n",
    "    Returns the image as a numpy array with dimensions (color band, height, width)\n",
    "    \"\"\"\n",
    "    (minx, miny, maxx, maxy) = bounding_box\n",
    "\n",
    "    image = rioxarray.open_rasterio(pc.sign(item.assets[band].href)).rio.clip_box(\n",
    "        minx=minx,\n",
    "        miny=miny,\n",
    "        maxx=maxx,\n",
    "        maxy=maxy,\n",
    "        crs=\"EPSG:4326\",\n",
    "    )\n",
    "\n",
    "    return image.to_numpy()"
   ]
  },
  {
   "cell_type": "code",
   "execution_count": 16,
   "id": "8fcb325b-0e64-4417-8b41-dbb503858876",
   "metadata": {},
   "outputs": [
    {
     "name": "stdout",
     "output_type": "stream",
     "text": [
      "CPU times: user 45.3 ms, sys: 5.63 ms, total: 51 ms\n",
      "Wall time: 3.83 s\n"
     ]
    }
   ],
   "source": [
    "%%time\n",
    "\n",
    "minx, miny, maxx, maxy = get_bounding_box(\n",
    "    example_row.latitude, example_row.longitude, meter_buffer=3000\n",
    ")\n",
    "\n",
    "# get the zoomed in image array\n",
    "bbox = (minx, miny, maxx, maxy)\n",
    "\n",
    "true_color = crop_sentinel_image(item, bbox, \"visual\")\n",
    "scl = crop_sentinel_image(item, bbox, \"SCL\")[0]"
   ]
  },
  {
   "cell_type": "code",
   "execution_count": 17,
   "id": "7446d480-7297-4044-92ec-ab4506a719f9",
   "metadata": {},
   "outputs": [
    {
     "data": {
      "image/png": "[encoded data removed]",
      "text/plain": [
       "<Figure size 1500x500 with 2 Axes>"
      ]
     },
     "metadata": {},
     "output_type": "display_data"
    }
   ],
   "source": [
    "# Crear subplots con una fila y tres columnas\n",
    "fig, axs = plt.subplots(1, 2, figsize=(15, 5))\n",
    "\n",
    "# Mostrar la primera imagen en el primer subplot\n",
    "axs[0].imshow(np.transpose(true_color, axes=[1, 2, 0]))\n",
    "axs[0].set_title('True Color')\n",
    "\n",
    "# Mostrar la segunda imagen en el tercer subplot\n",
    "axs[1].imshow(scl)\n",
    "axs[1].set_title('SCL Image')\n",
    "\n",
    "# Ajustar diseño\n",
    "plt.tight_layout()\n",
    "# Mostrar los subplots\n",
    "plt.show()"
   ]
  },
  {
   "cell_type": "code",
   "execution_count": 18,
   "id": "c58ba112-b9d5-44c7-82ad-b88e663fcdb3",
   "metadata": {},
   "outputs": [
    {
     "data": {
      "text/plain": [
       "<matplotlib.image.AxesImage at 0x77d673567880>"
      ]
     },
     "execution_count": 18,
     "metadata": {},
     "output_type": "execute_result"
    },
    {
     "data": {
      "image/png": "[encoded data removed]",
      "text/plain": [
       "<Figure size 640x480 with 1 Axes>"
      ]
     },
     "metadata": {},
     "output_type": "display_data"
    }
   ],
   "source": [
    "visual = np.transpose(true_color, axes=[1, 2, 0])\n",
    "water_mask = np.stack([cv2.resize(scl, (visual.shape[1], visual.shape[0]))] * 3, -1) == 6\n",
    "water_mask = np.where(water_mask, 255, 0)\n",
    "plt.imshow(water_mask)"
   ]
  },
  {
   "cell_type": "code",
   "execution_count": 19,
   "id": "1b3c20eb-a387-4276-a91f-81c399a60faf",
   "metadata": {},
   "outputs": [],
   "source": [
    "# Get images\n",
    "def get_images(row):\n",
    "    \"\"\"\n",
    "    Given a row from the metadada, return 2 cropped images from sentinel\n",
    "    1. True color image\n",
    "    2. Water mask\n",
    "    \"\"\"\n",
    "    bbox = get_bounding_box(row.latitude, row.longitude, meter_buffer=3000)\n",
    "    date_range = get_date_range(row.date)\n",
    "    \n",
    "    # search the planetary computer sentinel-l2a\n",
    "    search = catalog.search(\n",
    "        collections=[\"sentinel-2-l2a\"], \n",
    "        bbox=bbox, \n",
    "        datetime=date_range\n",
    "    )\n",
    "    \n",
    "    # get items\n",
    "    items = [item for item in search.item_collection()]\n",
    "    \n",
    "    # get details of all of the items returned\n",
    "    item_details = pd.DataFrame(\n",
    "        [\n",
    "            {\n",
    "                \"datetime\": item.datetime.strftime(\"%Y-%m-%d\"),\n",
    "                \"platform\": item.properties[\"platform\"],\n",
    "                \"min_long\": item.bbox[0],\n",
    "                \"max_long\": item.bbox[2],\n",
    "                \"min_lat\": item.bbox[1],\n",
    "                \"max_lat\": item.bbox[3],\n",
    "                \"bbox\": item.bbox,\n",
    "                \"item_obj\": item,\n",
    "            }\n",
    "            for item in items\n",
    "        ]\n",
    "    )\n",
    "    \n",
    "    # check which rows actually contain the sample location\n",
    "    item_details[\"contains_sample_point\"] = (\n",
    "        (item_details.min_lat < row.latitude)\n",
    "        & (item_details.max_lat > row.latitude)\n",
    "        & (item_details.min_long < row.longitude)\n",
    "        & (item_details.max_long > row.longitude)\n",
    "    )\n",
    "    item_details = item_details[item_details[\"contains_sample_point\"]]\n",
    "    item_details[[\"datetime\", \"platform\", \"contains_sample_point\", \"bbox\"]].sort_values(\n",
    "        by=\"datetime\"\n",
    "    )\n",
    "    \n",
    "    #Get best item\n",
    "    best_item = (\n",
    "    item_details[item_details.platform.str.contains(\"Sentinel\")]\n",
    "    .sort_values(by=\"datetime\", ascending=False)\n",
    "    .iloc[0]\n",
    "    )\n",
    "    item = best_item.item_obj\n",
    "\n",
    "    bbox = get_bounding_box(row.latitude, row.longitude, meter_buffer=1000)\n",
    "    true_color = crop_sentinel_image(item, bbox, \"visual\")\n",
    "    scl = crop_sentinel_image(item, bbox, \"SCL\")[0]\n",
    "    \n",
    "    # transpose\n",
    "    visual = np.transpose(true_color, axes=[1, 2, 0])\n",
    "    water_mask = np.stack([cv2.resize(scl, (visual.shape[1], visual.shape[0]))] * 3, -1) == 6\n",
    "    water_mask = np.where(water_mask, 1, np.nan)\n",
    "    water_mask = np.mean(water_mask, axis=2, keepdims=True)\n",
    "    \n",
    "    # Return images\n",
    "    return visual, water_mask"
   ]
  },
  {
   "cell_type": "code",
   "execution_count": 20,
   "id": "85e11411-4a35-4954-87f9-ef506e539b76",
   "metadata": {},
   "outputs": [
    {
     "data": {
      "image/png": "[encoded data removed]",
      "text/plain": [
       "<Figure size 1500x500 with 2 Axes>"
      ]
     },
     "metadata": {},
     "output_type": "display_data"
    },
    {
     "name": "stdout",
     "output_type": "stream",
     "text": [
      "CPU times: user 254 ms, sys: 177 ms, total: 430 ms\n",
      "Wall time: 858 ms\n"
     ]
    }
   ],
   "source": [
    "%%time \n",
    "\n",
    "test_visual, test_water_mask = get_images(example_row)\n",
    "\n",
    "# Crear subplots con una fila y tres columnas\n",
    "fig, axs = plt.subplots(1, 2, figsize=(15, 5))\n",
    "\n",
    "# Mostrar la primera imagen en el primer subplot\n",
    "axs[0].imshow(test_visual)\n",
    "axs[0].set_title('True Color')\n",
    "\n",
    "# Mostrar la segunda imagen en el tercer subplot\n",
    "axs[1].imshow(test_water_mask)\n",
    "axs[1].set_title('Water Mask')\n",
    "\n",
    "# Ajustar diseño\n",
    "plt.tight_layout()\n",
    "# Mostrar los subplots\n",
    "plt.show()"
   ]
  },
  {
   "cell_type": "code",
   "execution_count": 21,
   "id": "2e4e8e5d-5081-4727-8840-fe589b50d8f2",
   "metadata": {},
   "outputs": [
    {
     "name": "stderr",
     "output_type": "stream",
     "text": [
      "/tmp/ipykernel_197897/609074365.py:6: RuntimeWarning: invalid value encountered in divide\n",
      "  test_visual_rep = test_visual_rep / np.nanmax(test_visual_rep)\n"
     ]
    },
    {
     "data": {
      "image/png": "[encoded data removed]",
      "text/plain": [
       "<Figure size 1500x500 with 1 Axes>"
      ]
     },
     "metadata": {},
     "output_type": "display_data"
    }
   ],
   "source": [
    "test_visual, test_water_mask = get_images(example_row)\n",
    "\n",
    "test_visual = test_visual * test_water_mask\n",
    "\n",
    "test_visual_rep = np.nan_to_num(test_visual, nan=0)\n",
    "test_visual_rep = test_visual_rep / np.nanmax(test_visual_rep)\n",
    "\n",
    "# Crear subplots con una fila y tres columnas\n",
    "fig, axs = plt.subplots(1, 1, figsize=(15, 5))\n",
    "\n",
    "# Mostrar la primera imagen en el primer subplot\n",
    "plt.imshow(test_visual_rep)\n",
    "plt.title('True Color')\n",
    "\n",
    "# Ajustar diseño\n",
    "plt.tight_layout()\n",
    "# Mostrar los subplots\n",
    "plt.show()"
   ]
  },
  {
   "cell_type": "code",
   "execution_count": 22,
   "id": "c429eb4b-b578-450f-932f-fbe7f3a3901f",
   "metadata": {},
   "outputs": [
    {
     "data": {
      "image/png": "[encoded data removed]",
      "text/plain": [
       "<Figure size 1000x600 with 1 Axes>"
      ]
     },
     "metadata": {},
     "output_type": "display_data"
    }
   ],
   "source": [
    "red_values = test_visual[:,:,0].flatten()\n",
    "green_values = test_visual[:,:,1].flatten()\n",
    "blue_values = test_visual[:,:,2].flatten()\n",
    "\n",
    "# Calcular los histogramas de cada banda de color\n",
    "red_hist, red_bins = np.histogram(red_values, bins=255, range=(0, 255))\n",
    "green_hist, green_bins = np.histogram(green_values, bins=255, range=(0, 255))\n",
    "blue_hist, blue_bins = np.histogram(blue_values, bins=255, range=(0, 255))\n",
    "\n",
    "# Graficar los histogramas\n",
    "plt.figure(figsize=(10, 6))\n",
    "plt.plot(red_bins[:-1], red_hist, color='red', label='Rojo')\n",
    "plt.plot(green_bins[:-1], green_hist, color='green', label='Verde')\n",
    "plt.plot(blue_bins[:-1], blue_hist, color='blue', label='Azul')\n",
    "plt.title('Histograma de la imagen en color')\n",
    "plt.xlabel('Valor de intensidad')\n",
    "plt.ylabel('Frecuencia')\n",
    "plt.legend()\n",
    "plt.show()"
   ]
  },
  {
   "cell_type": "code",
   "execution_count": 23,
   "id": "3f442c0d-10c6-43d8-a045-87ea77426e26",
   "metadata": {},
   "outputs": [
    {
     "name": "stderr",
     "output_type": "stream",
     "text": [
      "/tmp/ipykernel_197897/780798815.py:2: RuntimeWarning: Mean of empty slice\n",
      "  'R_mean': np.nanmean(red_values),\n",
      "/tmp/ipykernel_197897/780798815.py:3: RuntimeWarning: Mean of empty slice\n",
      "  'G_mean': np.nanmean(green_values),\n",
      "/tmp/ipykernel_197897/780798815.py:4: RuntimeWarning: Mean of empty slice\n",
      "  'B_mean': np.nanmean(blue_values),\n",
      "/home/misa/Documents/Master/Global Project/iebs-mdsbd-global-project/venv/lib/python3.10/site-packages/numpy/lib/nanfunctions.py:1217: RuntimeWarning: All-NaN slice encountered\n",
      "  r, k = function_base._ureduce(a, func=_nanmedian, axis=axis, out=out,\n"
     ]
    },
    {
     "data": {
      "text/plain": [
       "{'R_mean': nan,\n",
       " 'G_mean': nan,\n",
       " 'B_mean': nan,\n",
       " 'R_median': nan,\n",
       " 'G_median': nan,\n",
       " 'B_median': nan}"
      ]
     },
     "execution_count": 23,
     "metadata": {},
     "output_type": "execute_result"
    }
   ],
   "source": [
    "means = {\n",
    "    'R_mean': np.nanmean(red_values),\n",
    "    'G_mean': np.nanmean(green_values),\n",
    "    'B_mean': np.nanmean(blue_values),\n",
    "    'R_median': np.nanmedian(red_values),\n",
    "    'G_median': np.nanmedian(green_values),\n",
    "    'B_median': np.nanmedian(blue_values)\n",
    "}\n",
    "\n",
    "means"
   ]
  },
  {
   "cell_type": "code",
   "execution_count": 24,
   "id": "4be64e2e-bb70-4323-ab5a-a91666c253fa",
   "metadata": {},
   "outputs": [
    {
     "data": {
      "text/plain": [
       "{'B_0': 0,\n",
       " 'B_1': 0,\n",
       " 'B_2': 0,\n",
       " 'B_3': 0,\n",
       " 'B_4': 0,\n",
       " 'B_5': 0,\n",
       " 'B_6': 0,\n",
       " 'B_7': 0,\n",
       " 'B_8': 0,\n",
       " 'B_9': 0,\n",
       " 'B_10': 0,\n",
       " 'B_11': 0,\n",
       " 'B_12': 0,\n",
       " 'B_13': 0,\n",
       " 'B_14': 0,\n",
       " 'B_15': 0,\n",
       " 'B_16': 0,\n",
       " 'B_17': 0,\n",
       " 'B_18': 0,\n",
       " 'B_19': 0,\n",
       " 'B_20': 0,\n",
       " 'B_21': 0,\n",
       " 'B_22': 0,\n",
       " 'B_23': 0,\n",
       " 'B_24': 0,\n",
       " 'B_25': 0,\n",
       " 'B_26': 0,\n",
       " 'B_27': 0,\n",
       " 'B_28': 0,\n",
       " 'B_29': 0,\n",
       " 'B_30': 0,\n",
       " 'B_31': 0,\n",
       " 'B_32': 0,\n",
       " 'B_33': 0,\n",
       " 'B_34': 0,\n",
       " 'B_35': 0,\n",
       " 'B_36': 0,\n",
       " 'B_37': 0,\n",
       " 'B_38': 0,\n",
       " 'B_39': 0,\n",
       " 'B_40': 0,\n",
       " 'B_41': 0,\n",
       " 'B_42': 0,\n",
       " 'B_43': 0,\n",
       " 'B_44': 0,\n",
       " 'B_45': 0,\n",
       " 'B_46': 0,\n",
       " 'B_47': 0,\n",
       " 'B_48': 0,\n",
       " 'B_49': 0,\n",
       " 'B_50': 0,\n",
       " 'B_51': 0,\n",
       " 'B_52': 0,\n",
       " 'B_53': 0,\n",
       " 'B_54': 0,\n",
       " 'B_55': 0,\n",
       " 'B_56': 0,\n",
       " 'B_57': 0,\n",
       " 'B_58': 0,\n",
       " 'B_59': 0,\n",
       " 'B_60': 0,\n",
       " 'B_61': 0,\n",
       " 'B_62': 0,\n",
       " 'B_63': 0,\n",
       " 'B_64': 0,\n",
       " 'B_65': 0,\n",
       " 'B_66': 0,\n",
       " 'B_67': 0,\n",
       " 'B_68': 0,\n",
       " 'B_69': 0,\n",
       " 'B_70': 0,\n",
       " 'B_71': 0,\n",
       " 'B_72': 0,\n",
       " 'B_73': 0,\n",
       " 'B_74': 0,\n",
       " 'B_75': 0,\n",
       " 'B_76': 0,\n",
       " 'B_77': 0,\n",
       " 'B_78': 0,\n",
       " 'B_79': 0,\n",
       " 'B_80': 0,\n",
       " 'B_81': 0,\n",
       " 'B_82': 0,\n",
       " 'B_83': 0,\n",
       " 'B_84': 0,\n",
       " 'B_85': 0,\n",
       " 'B_86': 0,\n",
       " 'B_87': 0,\n",
       " 'B_88': 0,\n",
       " 'B_89': 0,\n",
       " 'B_90': 0,\n",
       " 'B_91': 0,\n",
       " 'B_92': 0,\n",
       " 'B_93': 0,\n",
       " 'B_94': 0,\n",
       " 'B_95': 0,\n",
       " 'B_96': 0,\n",
       " 'B_97': 0,\n",
       " 'B_98': 0,\n",
       " 'B_99': 0,\n",
       " 'B_100': 0,\n",
       " 'B_101': 0,\n",
       " 'B_102': 0,\n",
       " 'B_103': 0,\n",
       " 'B_104': 0,\n",
       " 'B_105': 0,\n",
       " 'B_106': 0,\n",
       " 'B_107': 0,\n",
       " 'B_108': 0,\n",
       " 'B_109': 0,\n",
       " 'B_110': 0,\n",
       " 'B_111': 0,\n",
       " 'B_112': 0,\n",
       " 'B_113': 0,\n",
       " 'B_114': 0,\n",
       " 'B_115': 0,\n",
       " 'B_116': 0,\n",
       " 'B_117': 0,\n",
       " 'B_118': 0,\n",
       " 'B_119': 0,\n",
       " 'B_120': 0,\n",
       " 'B_121': 0,\n",
       " 'B_122': 0,\n",
       " 'B_123': 0,\n",
       " 'B_124': 0,\n",
       " 'B_125': 0,\n",
       " 'B_126': 0,\n",
       " 'B_127': 0,\n",
       " 'B_128': 0,\n",
       " 'B_129': 0,\n",
       " 'B_130': 0,\n",
       " 'B_131': 0,\n",
       " 'B_132': 0,\n",
       " 'B_133': 0,\n",
       " 'B_134': 0,\n",
       " 'B_135': 0,\n",
       " 'B_136': 0,\n",
       " 'B_137': 0,\n",
       " 'B_138': 0,\n",
       " 'B_139': 0,\n",
       " 'B_140': 0,\n",
       " 'B_141': 0,\n",
       " 'B_142': 0,\n",
       " 'B_143': 0,\n",
       " 'B_144': 0,\n",
       " 'B_145': 0,\n",
       " 'B_146': 0,\n",
       " 'B_147': 0,\n",
       " 'B_148': 0,\n",
       " 'B_149': 0,\n",
       " 'B_150': 0,\n",
       " 'B_151': 0,\n",
       " 'B_152': 0,\n",
       " 'B_153': 0,\n",
       " 'B_154': 0,\n",
       " 'B_155': 0,\n",
       " 'B_156': 0,\n",
       " 'B_157': 0,\n",
       " 'B_158': 0,\n",
       " 'B_159': 0,\n",
       " 'B_160': 0,\n",
       " 'B_161': 0,\n",
       " 'B_162': 0,\n",
       " 'B_163': 0,\n",
       " 'B_164': 0,\n",
       " 'B_165': 0,\n",
       " 'B_166': 0,\n",
       " 'B_167': 0,\n",
       " 'B_168': 0,\n",
       " 'B_169': 0,\n",
       " 'B_170': 0,\n",
       " 'B_171': 0,\n",
       " 'B_172': 0,\n",
       " 'B_173': 0,\n",
       " 'B_174': 0,\n",
       " 'B_175': 0,\n",
       " 'B_176': 0,\n",
       " 'B_177': 0,\n",
       " 'B_178': 0,\n",
       " 'B_179': 0,\n",
       " 'B_180': 0,\n",
       " 'B_181': 0,\n",
       " 'B_182': 0,\n",
       " 'B_183': 0,\n",
       " 'B_184': 0,\n",
       " 'B_185': 0,\n",
       " 'B_186': 0,\n",
       " 'B_187': 0,\n",
       " 'B_188': 0,\n",
       " 'B_189': 0,\n",
       " 'B_190': 0,\n",
       " 'B_191': 0,\n",
       " 'B_192': 0,\n",
       " 'B_193': 0,\n",
       " 'B_194': 0,\n",
       " 'B_195': 0,\n",
       " 'B_196': 0,\n",
       " 'B_197': 0,\n",
       " 'B_198': 0,\n",
       " 'B_199': 0,\n",
       " 'B_200': 0,\n",
       " 'B_201': 0,\n",
       " 'B_202': 0,\n",
       " 'B_203': 0,\n",
       " 'B_204': 0,\n",
       " 'B_205': 0,\n",
       " 'B_206': 0,\n",
       " 'B_207': 0,\n",
       " 'B_208': 0,\n",
       " 'B_209': 0,\n",
       " 'B_210': 0,\n",
       " 'B_211': 0,\n",
       " 'B_212': 0,\n",
       " 'B_213': 0,\n",
       " 'B_214': 0,\n",
       " 'B_215': 0,\n",
       " 'B_216': 0,\n",
       " 'B_217': 0,\n",
       " 'B_218': 0,\n",
       " 'B_219': 0,\n",
       " 'B_220': 0,\n",
       " 'B_221': 0,\n",
       " 'B_222': 0,\n",
       " 'B_223': 0,\n",
       " 'B_224': 0,\n",
       " 'B_225': 0,\n",
       " 'B_226': 0,\n",
       " 'B_227': 0,\n",
       " 'B_228': 0,\n",
       " 'B_229': 0,\n",
       " 'B_230': 0,\n",
       " 'B_231': 0,\n",
       " 'B_232': 0,\n",
       " 'B_233': 0,\n",
       " 'B_234': 0,\n",
       " 'B_235': 0,\n",
       " 'B_236': 0,\n",
       " 'B_237': 0,\n",
       " 'B_238': 0,\n",
       " 'B_239': 0,\n",
       " 'B_240': 0,\n",
       " 'B_241': 0,\n",
       " 'B_242': 0,\n",
       " 'B_243': 0,\n",
       " 'B_244': 0,\n",
       " 'B_245': 0,\n",
       " 'B_246': 0,\n",
       " 'B_247': 0,\n",
       " 'B_248': 0,\n",
       " 'B_249': 0,\n",
       " 'B_250': 0,\n",
       " 'B_251': 0,\n",
       " 'B_252': 0,\n",
       " 'B_253': 0,\n",
       " 'B_254': 0,\n",
       " 'B_255': 0}"
      ]
     },
     "execution_count": 24,
     "metadata": {},
     "output_type": "execute_result"
    }
   ],
   "source": [
    "features = {'B_' + str(int(x)): 0 if np.isnan(y) else y for x, y in zip(blue_bins, blue_values)}\n",
    "\n",
    "features"
   ]
  },
  {
   "cell_type": "code",
   "execution_count": 36,
   "id": "3744468f-8f08-4bf6-aa92-5a570637051a",
   "metadata": {},
   "outputs": [],
   "source": [
    "def get_features(row):\n",
    "    visual, water_mask = get_images(row)\n",
    "    visual = visual * water_mask\n",
    "    red_values = visual[:,:,0].flatten()\n",
    "    green_values = visual[:,:,1].flatten()\n",
    "    blue_values = visual[:,:,2].flatten() \n",
    "    # Calcular los histogramas de cada banda de color\n",
    "    red_hist, red_bins = np.histogram(red_values, bins=255, range=(0, 255))\n",
    "    green_hist, green_bins = np.histogram(green_values, bins=255, range=(0, 255))\n",
    "    blue_hist, blue_bins = np.histogram(blue_values, bins=255, range=(0, 255))\n",
    "    #\n",
    "    means = {\n",
    "        'uid': row.uid,\n",
    "        'R_mean': np.nanmean(red_values),\n",
    "        'G_mean': np.nanmean(green_values),\n",
    "        'B_mean': np.nanmean(blue_values),\n",
    "        'R_median': np.nanmedian(red_values),\n",
    "        'G_median': np.nanmedian(green_values),\n",
    "        'B_median': np.nanmedian(blue_values),\n",
    "        'G_vs_R': np.nanmean(green_values) / np.nanmean(red_values),\n",
    "        'G_vs_B': np.nanmean(green_values) / np.nanmean(blue_values),\n",
    "    }\n",
    "    blue_f = {'B_' + str(int(x)): 0 if np.isnan(y) else y for x, y in zip(blue_bins, blue_values)}\n",
    "    green_f = {'G_' + str(int(x)): 0 if np.isnan(y) else y for x, y in zip(green_bins, green_values)}\n",
    "    red_f = {'R_' + str(int(x)): 0 if np.isnan(y) else y for x, y in zip(red_bins, red_values)}\n",
    "    \n",
    "    return dict(means, **blue_f, **green_f, **red_f)\n",
    "    "
   ]
  },
  {
   "cell_type": "code",
   "execution_count": 37,
   "id": "3371a310-6caa-4245-b810-a93efb9442a1",
   "metadata": {},
   "outputs": [
    {
     "name": "stderr",
     "output_type": "stream",
     "text": [
      "/tmp/ipykernel_197897/3760225332.py:14: RuntimeWarning: Mean of empty slice\n",
      "  'R_mean': np.nanmean(red_values),\n",
      "/tmp/ipykernel_197897/3760225332.py:15: RuntimeWarning: Mean of empty slice\n",
      "  'G_mean': np.nanmean(green_values),\n",
      "/tmp/ipykernel_197897/3760225332.py:16: RuntimeWarning: Mean of empty slice\n",
      "  'B_mean': np.nanmean(blue_values),\n",
      "/home/misa/Documents/Master/Global Project/iebs-mdsbd-global-project/venv/lib/python3.10/site-packages/numpy/lib/nanfunctions.py:1217: RuntimeWarning: All-NaN slice encountered\n",
      "  r, k = function_base._ureduce(a, func=_nanmedian, axis=axis, out=out,\n",
      "/tmp/ipykernel_197897/3760225332.py:20: RuntimeWarning: Mean of empty slice\n",
      "  'G_vs_R': np.nanmean(green_values) / np.nanmean(red_values),\n",
      "/tmp/ipykernel_197897/3760225332.py:21: RuntimeWarning: Mean of empty slice\n",
      "  'G_vs_B': np.nanmean(green_values) / np.nanmean(blue_values),\n"
     ]
    },
    {
     "data": {
      "text/plain": [
       "{'uid': 'abau',\n",
       " 'R_mean': nan,\n",
       " 'G_mean': nan,\n",
       " 'B_mean': nan,\n",
       " 'R_median': nan,\n",
       " 'G_median': nan,\n",
       " 'B_median': nan,\n",
       " 'G_vs_R': nan,\n",
       " 'G_vs_B': nan}"
      ]
     },
     "execution_count": 37,
     "metadata": {},
     "output_type": "execute_result"
    }
   ],
   "source": [
    "test_features = get_features(example_row)\n",
    "\n",
    "test_features"
   ]
  },
  {
   "cell_type": "code",
   "execution_count": 27,
   "id": "1f5ef709-49db-4b36-be95-f2ce91b8294b",
   "metadata": {},
   "outputs": [],
   "source": [
    "def get_valid_data_points(row, valid_points):\n",
    "    \"\"\"\n",
    "    Given a row from the metadada, return true if data can be extracted from data point\n",
    "    \"\"\"\n",
    "    try:\n",
    "        bbox = get_bounding_box(row.latitude, row.longitude, meter_buffer=100)\n",
    "        date_range = get_date_range(row.date)\n",
    "        # search the planetary computer sentinel-l2a and landsat level-2 collections\n",
    "        search = catalog.search(\n",
    "            collections=[\"sentinel-2-l2a\"], \n",
    "            bbox=bbox, \n",
    "            datetime=date_range\n",
    "        )\n",
    "        # get items\n",
    "        items = [item for item in search.item_collection()]\n",
    "        item_details = pd.DataFrame(\n",
    "            [\n",
    "                {\n",
    "                    \"datetime\": item.datetime.strftime(\"%Y-%m-%d\"),\n",
    "                    \"platform\": item.properties[\"platform\"],\n",
    "                    \"min_long\": item.bbox[0],\n",
    "                    \"max_long\": item.bbox[2],\n",
    "                    \"min_lat\": item.bbox[1],\n",
    "                    \"max_lat\": item.bbox[3],\n",
    "                    \"bbox\": item.bbox,\n",
    "                    \"item_obj\": item,\n",
    "                }\n",
    "                for item in items\n",
    "            ]\n",
    "        )\n",
    "        item_details[\"contains_sample_point\"] = (\n",
    "            (item_details.min_lat < row.latitude)\n",
    "            & (item_details.max_lat > row.latitude)\n",
    "            & (item_details.min_long < row.longitude)\n",
    "            & (item_details.max_long > row.longitude)\n",
    "        )\n",
    "        item_details = item_details[item_details[\"contains_sample_point\"]]\n",
    "\n",
    "        \n",
    "        if len(item_details) == 0:\n",
    "            pass\n",
    "        else:\n",
    "            valid_points.append(row)\n",
    "    except Exception as e:\n",
    "        pass\n",
    "    "
   ]
  },
  {
   "cell_type": "code",
   "execution_count": 28,
   "id": "ff5abb67-390d-437c-8d0d-68dfbbdb7d47",
   "metadata": {},
   "outputs": [
    {
     "name": "stderr",
     "output_type": "stream",
     "text": [
      "100%|████████████████████████████████████████████████████████████████████████████████████████████| 23570/23570 [02:47<00:00, 140.77it/s]\n"
     ]
    }
   ],
   "source": [
    "def get_valid_data_points_wrapper(args):\n",
    "    r, valid_points = args\n",
    "    result = get_valid_data_points(r, valid_points)\n",
    "    return result\n",
    "\n",
    "# Utilizamos una lista compartida para almacenar los puntos válidos\n",
    "manager = Manager()\n",
    "valid_points = manager.list()\n",
    "\n",
    "# Obtener el número total de filas\n",
    "total_rows = len(metadata)\n",
    "\n",
    "# Crear un iterable de argumentos para el método map\n",
    "args = [(r, valid_points) for _, r in metadata.iterrows()]\n",
    "\n",
    "# Crear un Pool de procesos y mapear la función sobre los argumentos\n",
    "with Pool(processes=32) as pool:\n",
    "    for _ in tqdm(pool.imap_unordered(get_valid_data_points_wrapper, args), total=total_rows):\n",
    "        pass\n",
    "\n",
    "# Cerrar el Pool de procesos\n",
    "pool.close()\n",
    "pool.join()"
   ]
  },
  {
   "cell_type": "code",
   "execution_count": 29,
   "id": "6c9f79e7-1a5a-42fb-9f44-580b15b2369f",
   "metadata": {},
   "outputs": [
    {
     "data": {
      "text/plain": [
       "16206"
      ]
     },
     "execution_count": 29,
     "metadata": {},
     "output_type": "execute_result"
    }
   ],
   "source": [
    "len(valid_points)"
   ]
  },
  {
   "cell_type": "code",
   "execution_count": 30,
   "id": "20abb8ee-c2a7-4c6a-82ab-5cc822687919",
   "metadata": {},
   "outputs": [
    {
     "data": {
      "text/plain": [
       "23570"
      ]
     },
     "execution_count": 30,
     "metadata": {},
     "output_type": "execute_result"
    }
   ],
   "source": [
    "len(metadata)"
   ]
  },
  {
   "cell_type": "code",
   "execution_count": 31,
   "id": "a185c922-7d75-4129-a309-a116628431f4",
   "metadata": {},
   "outputs": [
    {
     "data": {
      "text/plain": [
       "0.6875689435723377"
      ]
     },
     "execution_count": 31,
     "metadata": {},
     "output_type": "execute_result"
    }
   ],
   "source": [
    "len(valid_points)/len(metadata)"
   ]
  },
  {
   "cell_type": "code",
   "execution_count": 32,
   "id": "1ccfe089-a5cd-4341-ba39-e53574bb98aa",
   "metadata": {},
   "outputs": [
    {
     "data": {
      "text/plain": [
       "array([nan, nan, nan, ..., nan, nan, nan])"
      ]
     },
     "execution_count": 32,
     "metadata": {},
     "output_type": "execute_result"
    }
   ],
   "source": [
    "red_values"
   ]
  },
  {
   "cell_type": "code",
   "execution_count": 33,
   "id": "7333e8e0-11d8-4f65-84fc-38d95becaf75",
   "metadata": {},
   "outputs": [
    {
     "data": {
      "text/plain": [
       "'https://sentinel2l2a01.blob.core.windows.net/sentinel2-l2/17/S/PV/2016/06/10/S2A_MSIL2A_20160610T155412_N0212_R054_T17SPV_20210211T181940.SAFE/GRANULE/L2A_T17SPV_A005056_20160610T155409/IMG_DATA/R10m/T17SPV_20160610T155412_TCI_10m.tif?st=2024-03-19T04%3A46%3A48Z&se=2024-03-21T04%3A46%3A48Z&sp=rl&sv=2021-06-08&sr=c&skoid=c85c15d6-d1ae-42d4-af60-e2ca0f81359b&sktid=72f988bf-86f1-41af-91ab-2d7cd011db47&skt=2024-03-20T03%3A44%3A55Z&ske=2024-03-27T03%3A44%3A55Z&sks=b&skv=2021-06-08&sig=zk9OLPvgSW83Lx%2BBp20758nxvqx2NHsfQ/wSeDXbfTY%3D'"
      ]
     },
     "execution_count": 33,
     "metadata": {},
     "output_type": "execute_result"
    }
   ],
   "source": [
    "item.assets[\"visual\"].href"
   ]
  },
  {
   "cell_type": "code",
   "execution_count": null,
   "id": "9f5f0ee2-72ef-4714-8e60-efbcc56130ad",
   "metadata": {},
   "outputs": [],
   "source": []
  }
 ],
 "metadata": {
  "kernelspec": {
   "display_name": "Python 3 (ipykernel)",
   "language": "python",
   "name": "python3"
  },
  "language_info": {
   "codemirror_mode": {
    "name": "ipython",
    "version": 3
   },
   "file_extension": ".py",
   "mimetype": "text/x-python",
   "name": "python",
   "nbconvert_exporter": "python",
   "pygments_lexer": "ipython3",
   "version": "3.10.13"
  }
 },
 "nbformat": 4,
 "nbformat_minor": 5
}
